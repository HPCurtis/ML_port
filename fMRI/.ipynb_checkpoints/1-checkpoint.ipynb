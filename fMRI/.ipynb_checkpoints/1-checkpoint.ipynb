{
 "cells": [
  {
   "cell_type": "code",
   "execution_count": 4,
   "id": "3d1ae586",
   "metadata": {},
   "outputs": [],
   "source": [
    "import nibabel\n",
    "import numpy as np\n",
    "import nipraxis"
   ]
  },
  {
   "cell_type": "code",
   "execution_count": 5,
   "id": "56ea01df",
   "metadata": {},
   "outputs": [
    {
     "name": "stderr",
     "output_type": "stream",
     "text": [
      "Downloading file 'ds114_sub009_t2r1.nii' from 'https://raw.githubusercontent.com/nipraxis/nipraxis-data/0.5/ds114_sub009_t2r1.nii' to '/home/harrison/.cache/nipraxis/0.5'.\n"
     ]
    },
    {
     "data": {
      "text/plain": [
       "'/home/harrison/.cache/nipraxis/0.5/ds114_sub009_t2r1.nii'"
      ]
     },
     "execution_count": 5,
     "metadata": {},
     "output_type": "execute_result"
    }
   ],
   "source": [
    "bold_fname = nipraxis.fetch_file('ds114_sub009_t2r1.nii')\n",
    "bold_fname"
   ]
  },
  {
   "cell_type": "code",
   "execution_count": 6,
   "id": "e0a9b510",
   "metadata": {},
   "outputs": [
    {
     "data": {
      "text/plain": [
       "(64, 64, 30, 173)"
      ]
     },
     "execution_count": 6,
     "metadata": {},
     "output_type": "execute_result"
    }
   ],
   "source": [
    "import nibabel as nib\n",
    "img = nib.load(bold_fname)\n",
    "img.shape"
   ]
  },
  {
   "cell_type": "code",
   "execution_count": 12,
   "id": "69282b99",
   "metadata": {},
   "outputs": [
    {
     "name": "stdout",
     "output_type": "stream",
     "text": [
      "122880\n"
     ]
    },
    {
     "data": {
      "text/plain": [
       "336.69940592447915"
      ]
     },
     "execution_count": 12,
     "metadata": {},
     "output_type": "execute_result"
    }
   ],
   "source": [
    "# Number of voxels\n",
    "print(np.prod(img.shape[:-1]))\n",
    "\n",
    "# Get fmri data\n",
    "data = img.get_fdata()\n",
    "\n",
    "# Drop the first volume\n",
    "data = img.get_fdata()\n",
    "data = data[..., 1:]\n",
    "data.shape\n",
    "\n",
    "# First volume \n",
    "first_vol = data[..., 0]\n",
    "# Take the aritmetic mean across the all voxels\n",
    "np.mean(first_vol)"
   ]
  },
  {
   "cell_type": "code",
   "execution_count": null,
   "id": "b55ab2e5",
   "metadata": {},
   "outputs": [],
   "source": []
  }
 ],
 "metadata": {
  "kernelspec": {
   "display_name": "Python 3 (ipykernel)",
   "language": "python",
   "name": "python3"
  },
  "language_info": {
   "codemirror_mode": {
    "name": "ipython",
    "version": 3
   },
   "file_extension": ".py",
   "mimetype": "text/x-python",
   "name": "python",
   "nbconvert_exporter": "python",
   "pygments_lexer": "ipython3",
   "version": "3.10.9"
  }
 },
 "nbformat": 4,
 "nbformat_minor": 5
}
