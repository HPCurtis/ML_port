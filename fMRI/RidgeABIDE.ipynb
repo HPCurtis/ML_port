{
 "cells": [
  {
   "cell_type": "markdown",
   "id": "307f61d0",
   "metadata": {},
   "source": [
    "# fMRI Machine Learning using Bayesian Regularised Regression\n",
    "\n",
    "The notebook below demonstrates a Machine learning approach to the analysis of the  structural MRI data. The data provided by the Autism Brain Imaging Data Exchange II (ABIBEII) study from Di Martino et al (2017).The study is international collabortion towards the study of Austism. Specifically, by genereating large samples of structural MRI data from multiple international reseacrh sites. The data analysed below is the lightly preprocessed data from  Bethlehem (2020). Here having been downloaded and stored into the associated Datasets github of this notebooks author (see, the repositories https://github.com/HPCurtis?tab=repositories.\n",
    "\n",
    "The ABIBE dataset here contains a range of features that can be categorised broadly into three seperate categories. The first of which are simple identifiers (site, subject). The second are phenotype features (age, sex, diagnosis of autism present). Thirdly, the rest of the data set are 4 set of structural brain features (suface Area, volume, cortical thickness and gyrification)(tagged as fsArea, fsVol, fsCT and fsLGI in the dataset). Each of the four features containing 360 variables resulting in 1440 feaautres in total. Each of the these360 features represents a region of interest specified in the Human Connectome Project Glasser et al. (2016)."
   ]
  },
  {
   "cell_type": "code",
   "execution_count": 11,
   "id": "127c45c3",
   "metadata": {},
   "outputs": [],
   "source": [
    "# Import neccesary python packages.\n",
    "from cmdstanpy import CmdStanModel, write_stan_json\n",
    "import numpy as np\n",
    "import matplotlib.pyplot as plt\n",
    "import seaborn as sns\n",
    "import pandas as pd\n",
    "from sklearn.model_selection import train_test_split\n",
    "from sklearn.preprocessing import scale\n",
    "import arviz as az\n",
    "import os"
   ]
  },
  {
   "cell_type": "markdown",
   "id": "6f1c8c97",
   "metadata": {},
   "source": [
    "## Define useful functions for the analysis below "
   ]
  },
  {
   "cell_type": "code",
   "execution_count": 12,
   "id": "6624403a",
   "metadata": {},
   "outputs": [],
   "source": [
    "# Define pythonised Prediction mean squared error function for Bayesian regularized regression models.\n",
    "# Based on R function from https://github.com/sara-vanerp/bayesreg/blob/master/R/pmse_lm.R\n",
    "def pmse(object, ytest):\n",
    "    draws = object.draws_pd(vars = 'y_test')\n",
    "    draws = draws.T\n",
    "    postmeans = draws[0].mean()\n",
    "    pmse = np.mean((postmeans-ytest)**2)\n",
    "    return pmse, draws[0] "
   ]
  },
  {
   "cell_type": "markdown",
   "id": "1325a27d",
   "metadata": {},
   "source": [
    "${ \\frac{1}{N} \\Sigma^N_{i=1} (y^{gen}_i - y_i)^2 }$"
   ]
  },
  {
   "cell_type": "markdown",
   "id": "641155a9-18a4-4622-bf84-dd38f1448013",
   "metadata": {},
   "source": [
    "# Data cleaning"
   ]
  },
  {
   "cell_type": "code",
   "execution_count": 13,
   "id": "f8e9ccad",
   "metadata": {},
   "outputs": [],
   "source": [
    "# Read ABIDEII dataset from github using pandas.\n",
    "d =  pd.read_csv('https://raw.githubusercontent.com/HPCurtis/Datasets/main/abide2.csv')"
   ]
  },
  {
   "cell_type": "code",
   "execution_count": 14,
   "id": "7690cda2",
   "metadata": {},
   "outputs": [
    {
     "data": {
      "text/html": [
       "<div>\n",
       "<style scoped>\n",
       "    .dataframe tbody tr th:only-of-type {\n",
       "        vertical-align: middle;\n",
       "    }\n",
       "\n",
       "    .dataframe tbody tr th {\n",
       "        vertical-align: top;\n",
       "    }\n",
       "\n",
       "    .dataframe thead th {\n",
       "        text-align: right;\n",
       "    }\n",
       "</style>\n",
       "<table border=\"1\" class=\"dataframe\">\n",
       "  <thead>\n",
       "    <tr style=\"text-align: right;\">\n",
       "      <th></th>\n",
       "      <th>Unnamed: 0</th>\n",
       "      <th>site</th>\n",
       "      <th>subject</th>\n",
       "      <th>age</th>\n",
       "      <th>sex</th>\n",
       "      <th>group</th>\n",
       "      <th>age_resid</th>\n",
       "      <th>fsArea_L_V1_ROI</th>\n",
       "      <th>fsArea_L_MST_ROI</th>\n",
       "      <th>fsArea_L_V6_ROI</th>\n",
       "      <th>...</th>\n",
       "      <th>fsCT_R_p47r_ROI</th>\n",
       "      <th>fsCT_R_TGv_ROI</th>\n",
       "      <th>fsCT_R_MBelt_ROI</th>\n",
       "      <th>fsCT_R_LBelt_ROI</th>\n",
       "      <th>fsCT_R_A4_ROI</th>\n",
       "      <th>fsCT_R_STSva_ROI</th>\n",
       "      <th>fsCT_R_TE1m_ROI</th>\n",
       "      <th>fsCT_R_PI_ROI</th>\n",
       "      <th>fsCT_R_a32pr_ROI</th>\n",
       "      <th>fsCT_R_p24_ROI</th>\n",
       "    </tr>\n",
       "  </thead>\n",
       "  <tbody>\n",
       "    <tr>\n",
       "      <th>0</th>\n",
       "      <td>0</td>\n",
       "      <td>ABIDEII-KKI_1</td>\n",
       "      <td>29293</td>\n",
       "      <td>8.893151</td>\n",
       "      <td>2.0</td>\n",
       "      <td>1.0</td>\n",
       "      <td>13.642852</td>\n",
       "      <td>2750.0</td>\n",
       "      <td>306.0</td>\n",
       "      <td>354.0</td>\n",
       "      <td>...</td>\n",
       "      <td>3.362</td>\n",
       "      <td>2.827</td>\n",
       "      <td>2.777</td>\n",
       "      <td>2.526</td>\n",
       "      <td>3.202</td>\n",
       "      <td>3.024</td>\n",
       "      <td>3.354</td>\n",
       "      <td>2.629</td>\n",
       "      <td>2.699</td>\n",
       "      <td>3.179</td>\n",
       "    </tr>\n",
       "    <tr>\n",
       "      <th>1</th>\n",
       "      <td>1</td>\n",
       "      <td>ABIDEII-OHSU_1</td>\n",
       "      <td>28997</td>\n",
       "      <td>12.000000</td>\n",
       "      <td>2.0</td>\n",
       "      <td>1.0</td>\n",
       "      <td>16.081732</td>\n",
       "      <td>2836.0</td>\n",
       "      <td>186.0</td>\n",
       "      <td>354.0</td>\n",
       "      <td>...</td>\n",
       "      <td>2.809</td>\n",
       "      <td>3.539</td>\n",
       "      <td>2.944</td>\n",
       "      <td>2.769</td>\n",
       "      <td>3.530</td>\n",
       "      <td>3.079</td>\n",
       "      <td>3.282</td>\n",
       "      <td>2.670</td>\n",
       "      <td>2.746</td>\n",
       "      <td>3.324</td>\n",
       "    </tr>\n",
       "    <tr>\n",
       "      <th>2</th>\n",
       "      <td>2</td>\n",
       "      <td>ABIDEII-GU_1</td>\n",
       "      <td>28845</td>\n",
       "      <td>8.390000</td>\n",
       "      <td>1.0</td>\n",
       "      <td>2.0</td>\n",
       "      <td>12.866264</td>\n",
       "      <td>3394.0</td>\n",
       "      <td>223.0</td>\n",
       "      <td>373.0</td>\n",
       "      <td>...</td>\n",
       "      <td>2.435</td>\n",
       "      <td>3.321</td>\n",
       "      <td>2.799</td>\n",
       "      <td>2.388</td>\n",
       "      <td>3.148</td>\n",
       "      <td>3.125</td>\n",
       "      <td>3.116</td>\n",
       "      <td>2.891</td>\n",
       "      <td>2.940</td>\n",
       "      <td>3.232</td>\n",
       "    </tr>\n",
       "  </tbody>\n",
       "</table>\n",
       "<p>3 rows × 1447 columns</p>\n",
       "</div>"
      ],
      "text/plain": [
       "   Unnamed: 0            site  subject        age  sex  group  age_resid  \\\n",
       "0           0   ABIDEII-KKI_1    29293   8.893151  2.0    1.0  13.642852   \n",
       "1           1  ABIDEII-OHSU_1    28997  12.000000  2.0    1.0  16.081732   \n",
       "2           2    ABIDEII-GU_1    28845   8.390000  1.0    2.0  12.866264   \n",
       "\n",
       "   fsArea_L_V1_ROI  fsArea_L_MST_ROI  fsArea_L_V6_ROI  ...  fsCT_R_p47r_ROI  \\\n",
       "0           2750.0             306.0            354.0  ...            3.362   \n",
       "1           2836.0             186.0            354.0  ...            2.809   \n",
       "2           3394.0             223.0            373.0  ...            2.435   \n",
       "\n",
       "   fsCT_R_TGv_ROI  fsCT_R_MBelt_ROI  fsCT_R_LBelt_ROI  fsCT_R_A4_ROI  \\\n",
       "0           2.827             2.777             2.526          3.202   \n",
       "1           3.539             2.944             2.769          3.530   \n",
       "2           3.321             2.799             2.388          3.148   \n",
       "\n",
       "   fsCT_R_STSva_ROI  fsCT_R_TE1m_ROI  fsCT_R_PI_ROI  fsCT_R_a32pr_ROI  \\\n",
       "0             3.024            3.354          2.629             2.699   \n",
       "1             3.079            3.282          2.670             2.746   \n",
       "2             3.125            3.116          2.891             2.940   \n",
       "\n",
       "   fsCT_R_p24_ROI  \n",
       "0           3.179  \n",
       "1           3.324  \n",
       "2           3.232  \n",
       "\n",
       "[3 rows x 1447 columns]"
      ]
     },
     "execution_count": 14,
     "metadata": {},
     "output_type": "execute_result"
    }
   ],
   "source": [
    "# View the top three rows of dataset.\n",
    "d.head(3)"
   ]
  },
  {
   "cell_type": "code",
   "execution_count": 15,
   "id": "84a477cd",
   "metadata": {},
   "outputs": [],
   "source": [
    "# Extract \n",
    "y = d.age\n",
    "features = d.filter(like='fs')"
   ]
  },
  {
   "cell_type": "code",
   "execution_count": 16,
   "id": "f725c96d",
   "metadata": {},
   "outputs": [],
   "source": [
    "# Split data into training and test sets using sklearn train_test_split.\n",
    "X_train, X_test, y_train, y_test = train_test_split(features, y, train_size = 0.8)\n",
    "\n",
    "# Standardise the y_test data so they are on the same scale so predciton error is on the \n",
    "# equivalent scale\n",
    "y_test = scale(np.asarray(y_test))\n",
    "\n",
    "# Create python dictionary to passs the data of the anlaysis to\n",
    "# the prerequisite .JSON file below\n",
    "dataDic = {'N_train': len(X_train),\n",
    "           'N_test': len(X_test),\n",
    "           'p': np.shape(X_train)[1],\n",
    "           'X_train': X_train,\n",
    "           'X_test': X_test,\n",
    "           'y_train': y_train\n",
    "           }\n",
    "\n",
    "# Write JSON file for data to be passed to Stan.\n",
    "write_stan_json(path = 'RegRegABIDE.json' , data = dataDic)"
   ]
  },
  {
   "cell_type": "markdown",
   "id": "a36579b2",
   "metadata": {},
   "source": [
    "# Bayesian LASSO regression"
   ]
  },
  {
   "cell_type": "code",
   "execution_count": 29,
   "id": "bdfa37d0-ed4a-46ee-afa8-f1f645bebbdb",
   "metadata": {},
   "outputs": [
    {
     "name": "stderr",
     "output_type": "stream",
     "text": [
      "14:54:54 - cmdstanpy - INFO - compiling stan file /home/harrison/Desktop/gitHubRepos/ML_port/fMRI/RegLasso.stan to exe file /home/harrison/Desktop/gitHubRepos/ML_port/fMRI/RegLasso\n",
      "14:55:14 - cmdstanpy - INFO - compiled model executable: /home/harrison/Desktop/gitHubRepos/ML_port/fMRI/RegLasso\n",
      "14:55:14 - cmdstanpy - WARNING - Stan compiler has produced 1 warnings:\n",
      "14:55:14 - cmdstanpy - WARNING - \n",
      "--- Translating Stan model to C++ code ---\n",
      "bin/stanc  --o=/home/harrison/Desktop/gitHubRepos/ML_port/fMRI/RegLasso.hpp /home/harrison/Desktop/gitHubRepos/ML_port/fMRI/RegLasso.stan\n",
      "Warning in '/home/harrison/Desktop/gitHubRepos/ML_port/fMRI/RegLasso.stan', line 50, column 1: Declaration\n",
      "    of arrays by placing brackets after a variable name is deprecated and\n",
      "    will be removed in Stan 2.32.0. Instead use the array keyword before the\n",
      "    type. This can be changed automatically using the auto-format flag to\n",
      "    stanc\n",
      "\n",
      "--- Compiling, linking C++ code ---\n",
      "/home/harrison/anaconda3/envs/ML_env/bin/x86_64-conda-linux-gnu-c++ -fvisibility-inlines-hidden -std=c++17 -fmessage-length=0 -march=nocona -mtune=haswell -ftree-vectorize -fPIC -fstack-protector-strong -fno-plt -O2 -ffunction-sections -pipe -isystem /home/harrison/anaconda3/envs/ML_env/include -std=c++1y -D_REENTRANT -Wno-sign-compare -Wno-ignored-attributes     -DSTAN_THREADS -I /home/harrison/anaconda3/envs/ML_env/include/    -O3 -I src -I stan/src -I stan/lib/rapidjson_1.1.0/ -I lib/CLI11-1.9.1/ -I stan/lib/stan_math/ -I stan/lib/stan_math/lib/eigen_3.3.9 -I stan/lib/stan_math/lib/boost_1.78.0 -I stan/lib/stan_math/lib/sundials_6.1.1/include -I stan/lib/stan_math/lib/sundials_6.1.1/src/sundials -DNDEBUG -D_FORTIFY_SOURCE=2 -O2 -isystem /home/harrison/anaconda3/envs/ML_env/include    -DBOOST_DISABLE_ASSERTS   -DTBB_INTERFACE_NEW  -DTBB_INTERFACE_NEW     -c  -x c++ -o /home/harrison/Desktop/gitHubRepos/ML_port/fMRI/RegLasso.o /home/harrison/Desktop/gitHubRepos/ML_port/fMRI/RegLasso.hpp\n",
      "/home/harrison/anaconda3/envs/ML_env/bin/x86_64-conda-linux-gnu-c++ -fvisibility-inlines-hidden -std=c++17 -fmessage-length=0 -march=nocona -mtune=haswell -ftree-vectorize -fPIC -fstack-protector-strong -fno-plt -O2 -ffunction-sections -pipe -isystem /home/harrison/anaconda3/envs/ML_env/include -std=c++1y -D_REENTRANT -Wno-sign-compare -Wno-ignored-attributes     -DSTAN_THREADS -I /home/harrison/anaconda3/envs/ML_env/include/    -O3 -I src -I stan/src -I stan/lib/rapidjson_1.1.0/ -I lib/CLI11-1.9.1/ -I stan/lib/stan_math/ -I stan/lib/stan_math/lib/eigen_3.3.9 -I stan/lib/stan_math/lib/boost_1.78.0 -I stan/lib/stan_math/lib/sundials_6.1.1/include -I stan/lib/stan_math/lib/sundials_6.1.1/src/sundials -DNDEBUG -D_FORTIFY_SOURCE=2 -O2 -isystem /home/harrison/anaconda3/envs/ML_env/include    -DBOOST_DISABLE_ASSERTS   -DTBB_INTERFACE_NEW  -DTBB_INTERFACE_NEW    -Wl,-O2 -Wl,--sort-common -Wl,--as-needed -Wl,-z,relro -Wl,-z,now -Wl,--disable-new-dtags -Wl,--gc-sections -Wl,-rpath,/home/harrison/anaconda3/envs/ML_env/lib -Wl,-rpath-link,/home/harrison/anaconda3/envs/ML_env/lib -L/home/harrison/anaconda3/envs/ML_env/lib        -Wl,-L,\"/home/harrison/anaconda3/envs/ML_env/lib/\" -Wl,-rpath,\"/home/harrison/anaconda3/envs/ML_env/lib/\" -Wl,--disable-new-dtags -ltbb    /home/harrison/Desktop/gitHubRepos/ML_port/fMRI/RegLasso.o src/cmdstan/main_threads.o        -Wl,-L,\"/home/harrison/anaconda3/envs/ML_env/lib/\" -Wl,-rpath,\"/home/harrison/anaconda3/envs/ML_env/lib/\" -Wl,--disable-new-dtags -ltbb stan/lib/stan_math/lib/sundials_6.1.1/lib/libsundials_nvecserial.a stan/lib/stan_math/lib/sundials_6.1.1/lib/libsundials_cvodes.a stan/lib/stan_math/lib/sundials_6.1.1/lib/libsundials_idas.a stan/lib/stan_math/lib/sundials_6.1.1/lib/libsundials_kinsol.a   -o /home/harrison/Desktop/gitHubRepos/ML_port/fMRI/RegLasso\n",
      "rm -f /home/harrison/Desktop/gitHubRepos/ML_port/fMRI/RegLasso.o\n",
      "\n"
     ]
    }
   ],
   "source": [
    "# Compile stan model into C++.\n",
    "modelL = CmdStanModel(stan_file = 'RegLasso.stan', cpp_options={'STAN_THREADS':'true'})"
   ]
  },
  {
   "cell_type": "code",
   "execution_count": 32,
   "id": "744b560a-d41b-44a7-94fc-93215e683a15",
   "metadata": {},
   "outputs": [
    {
     "name": "stderr",
     "output_type": "stream",
     "text": [
      "14:58:42 - cmdstanpy - INFO - Chain [1] start processing\n",
      "15:00:27 - cmdstanpy - INFO - Chain [1] done processing\n",
      "15:00:27 - cmdstanpy - WARNING - The algorithm may not have converged.\n",
      "Proceeding because require_converged is set to False\n"
     ]
    }
   ],
   "source": [
    "# Use varaitional infernce to calculate init values to speed up HMC sampling below. \n",
    "vbfitL = modelL.variational(data ='RegRegABIDE.json', require_converged = False, seed = 1, grad_samples = 10)\n",
    "vbL_vars = vbfitL.stan_variables()"
   ]
  },
  {
   "cell_type": "code",
   "execution_count": null,
   "id": "747b3328-cfc6-4c3f-8fed-18607db9693a",
   "metadata": {},
   "outputs": [
    {
     "name": "stderr",
     "output_type": "stream",
     "text": [
      "15:00:27 - cmdstanpy - INFO - CmdStan start processing\n"
     ]
    },
    {
     "data": {
      "application/vnd.jupyter.widget-view+json": {
       "model_id": "cd823526912f4ac99af35f5c547d207b",
       "version_major": 2,
       "version_minor": 0
      },
      "text/plain": [
       "chain 1 |          | 00:00 Status"
      ]
     },
     "metadata": {},
     "output_type": "display_data"
    },
    {
     "data": {
      "application/vnd.jupyter.widget-view+json": {
       "model_id": "16fbe0503b124a84bfa57eb44a806d60",
       "version_major": 2,
       "version_minor": 0
      },
      "text/plain": [
       "chain 2 |          | 00:00 Status"
      ]
     },
     "metadata": {},
     "output_type": "display_data"
    },
    {
     "data": {
      "application/vnd.jupyter.widget-view+json": {
       "model_id": "bec5f7bb4fdf40d6a3b14a029075d4d4",
       "version_major": 2,
       "version_minor": 0
      },
      "text/plain": [
       "chain 3 |          | 00:00 Status"
      ]
     },
     "metadata": {},
     "output_type": "display_data"
    },
    {
     "data": {
      "application/vnd.jupyter.widget-view+json": {
       "model_id": "96487666303041e3a12d9368790417cd",
       "version_major": 2,
       "version_minor": 0
      },
      "text/plain": [
       "chain 4 |          | 00:00 Status"
      ]
     },
     "metadata": {},
     "output_type": "display_data"
    }
   ],
   "source": [
    "# fit the Stan model to the data.\n",
    "fitL = modelL.sample(data ='RegRegABIDE.json', chains = 4, inits = vbL_vars, iter_sampling = 1000, iter_warmup = 500);"
   ]
  },
  {
   "cell_type": "code",
   "execution_count": null,
   "id": "c9f6e170-43bc-4b6a-8880-a917a2599f5f",
   "metadata": {},
   "outputs": [],
   "source": [
    "az.summary(fitL)\n",
    "LassoDrawsDf = fitL.draws_pd()"
   ]
  },
  {
   "cell_type": "markdown",
   "id": "42a73396",
   "metadata": {},
   "source": [
    "# Bayesian Ridge Regression analysis"
   ]
  },
  {
   "cell_type": "code",
   "execution_count": 17,
   "id": "34122b39",
   "metadata": {},
   "outputs": [
    {
     "name": "stderr",
     "output_type": "stream",
     "text": [
      "14:44:58 - cmdstanpy - INFO - compiling stan file /home/harrison/Desktop/gitHubRepos/ML_port/fMRI/RegReg.stan to exe file /home/harrison/Desktop/gitHubRepos/ML_port/fMRI/RegReg\n",
      "14:45:17 - cmdstanpy - INFO - compiled model executable: /home/harrison/Desktop/gitHubRepos/ML_port/fMRI/RegReg\n",
      "14:45:17 - cmdstanpy - WARNING - Stan compiler has produced 1 warnings:\n",
      "14:45:17 - cmdstanpy - WARNING - \n",
      "--- Translating Stan model to C++ code ---\n",
      "bin/stanc  --o=/home/harrison/Desktop/gitHubRepos/ML_port/fMRI/RegReg.hpp /home/harrison/Desktop/gitHubRepos/ML_port/fMRI/RegReg.stan\n",
      "Warning in '/home/harrison/Desktop/gitHubRepos/ML_port/fMRI/RegReg.stan', line 54, column 1: Declaration\n",
      "    of arrays by placing brackets after a variable name is deprecated and\n",
      "    will be removed in Stan 2.32.0. Instead use the array keyword before the\n",
      "    type. This can be changed automatically using the auto-format flag to\n",
      "    stanc\n",
      "\n",
      "--- Compiling, linking C++ code ---\n",
      "/home/harrison/anaconda3/envs/ML_env/bin/x86_64-conda-linux-gnu-c++ -fvisibility-inlines-hidden -std=c++17 -fmessage-length=0 -march=nocona -mtune=haswell -ftree-vectorize -fPIC -fstack-protector-strong -fno-plt -O2 -ffunction-sections -pipe -isystem /home/harrison/anaconda3/envs/ML_env/include -std=c++1y -D_REENTRANT -Wno-sign-compare -Wno-ignored-attributes     -DSTAN_THREADS -I /home/harrison/anaconda3/envs/ML_env/include/    -O3 -I src -I stan/src -I stan/lib/rapidjson_1.1.0/ -I lib/CLI11-1.9.1/ -I stan/lib/stan_math/ -I stan/lib/stan_math/lib/eigen_3.3.9 -I stan/lib/stan_math/lib/boost_1.78.0 -I stan/lib/stan_math/lib/sundials_6.1.1/include -I stan/lib/stan_math/lib/sundials_6.1.1/src/sundials -DNDEBUG -D_FORTIFY_SOURCE=2 -O2 -isystem /home/harrison/anaconda3/envs/ML_env/include    -DBOOST_DISABLE_ASSERTS   -DTBB_INTERFACE_NEW  -DTBB_INTERFACE_NEW     -c  -x c++ -o /home/harrison/Desktop/gitHubRepos/ML_port/fMRI/RegReg.o /home/harrison/Desktop/gitHubRepos/ML_port/fMRI/RegReg.hpp\n",
      "/home/harrison/anaconda3/envs/ML_env/bin/x86_64-conda-linux-gnu-c++ -fvisibility-inlines-hidden -std=c++17 -fmessage-length=0 -march=nocona -mtune=haswell -ftree-vectorize -fPIC -fstack-protector-strong -fno-plt -O2 -ffunction-sections -pipe -isystem /home/harrison/anaconda3/envs/ML_env/include -std=c++1y -D_REENTRANT -Wno-sign-compare -Wno-ignored-attributes     -DSTAN_THREADS -I /home/harrison/anaconda3/envs/ML_env/include/    -O3 -I src -I stan/src -I stan/lib/rapidjson_1.1.0/ -I lib/CLI11-1.9.1/ -I stan/lib/stan_math/ -I stan/lib/stan_math/lib/eigen_3.3.9 -I stan/lib/stan_math/lib/boost_1.78.0 -I stan/lib/stan_math/lib/sundials_6.1.1/include -I stan/lib/stan_math/lib/sundials_6.1.1/src/sundials -DNDEBUG -D_FORTIFY_SOURCE=2 -O2 -isystem /home/harrison/anaconda3/envs/ML_env/include    -DBOOST_DISABLE_ASSERTS   -DTBB_INTERFACE_NEW  -DTBB_INTERFACE_NEW    -Wl,-O2 -Wl,--sort-common -Wl,--as-needed -Wl,-z,relro -Wl,-z,now -Wl,--disable-new-dtags -Wl,--gc-sections -Wl,-rpath,/home/harrison/anaconda3/envs/ML_env/lib -Wl,-rpath-link,/home/harrison/anaconda3/envs/ML_env/lib -L/home/harrison/anaconda3/envs/ML_env/lib        -Wl,-L,\"/home/harrison/anaconda3/envs/ML_env/lib/\" -Wl,-rpath,\"/home/harrison/anaconda3/envs/ML_env/lib/\" -Wl,--disable-new-dtags -ltbb    /home/harrison/Desktop/gitHubRepos/ML_port/fMRI/RegReg.o src/cmdstan/main_threads.o        -Wl,-L,\"/home/harrison/anaconda3/envs/ML_env/lib/\" -Wl,-rpath,\"/home/harrison/anaconda3/envs/ML_env/lib/\" -Wl,--disable-new-dtags -ltbb stan/lib/stan_math/lib/sundials_6.1.1/lib/libsundials_nvecserial.a stan/lib/stan_math/lib/sundials_6.1.1/lib/libsundials_cvodes.a stan/lib/stan_math/lib/sundials_6.1.1/lib/libsundials_idas.a stan/lib/stan_math/lib/sundials_6.1.1/lib/libsundials_kinsol.a   -o /home/harrison/Desktop/gitHubRepos/ML_port/fMRI/RegReg\n",
      "rm -f /home/harrison/Desktop/gitHubRepos/ML_port/fMRI/RegReg.o\n",
      "\n"
     ]
    }
   ],
   "source": [
    "# Compile stan model into C++.\n",
    "modelR = CmdStanModel(stan_file = 'RegReg.stan', cpp_options={'STAN_THREADS':'true'})"
   ]
  },
  {
   "cell_type": "code",
   "execution_count": 18,
   "id": "3c71d739",
   "metadata": {},
   "outputs": [
    {
     "name": "stderr",
     "output_type": "stream",
     "text": [
      "14:45:17 - cmdstanpy - INFO - Chain [1] start processing\n",
      "14:47:11 - cmdstanpy - INFO - Chain [1] done processing\n",
      "14:47:11 - cmdstanpy - WARNING - The algorithm may not have converged.\n",
      "Proceeding because require_converged is set to False\n"
     ]
    }
   ],
   "source": [
    "# Use varaitional infernce to calculate init values to speed up HMC sampling below. \n",
    "vbfitR = modelR.variational(data ='RegRegABIDE.json', require_converged = False, seed = 1, grad_samples = 10)\n",
    "vbR_vars = vbfitR.stan_variables()"
   ]
  },
  {
   "cell_type": "code",
   "execution_count": null,
   "id": "ecb63ba2",
   "metadata": {},
   "outputs": [],
   "source": [
    "# fit the Stan model to the data.\n",
    "fitR = modelR.sample(data ='RegRegABIDE.json', chains = 4, inits = vbR_vars, iter_sampling = 1000, iter_warmup = 500);"
   ]
  },
  {
   "cell_type": "code",
   "execution_count": 21,
   "id": "fe1de874",
   "metadata": {},
   "outputs": [
    {
     "data": {
      "text/html": [
       "<div>\n",
       "<style scoped>\n",
       "    .dataframe tbody tr th:only-of-type {\n",
       "        vertical-align: middle;\n",
       "    }\n",
       "\n",
       "    .dataframe tbody tr th {\n",
       "        vertical-align: top;\n",
       "    }\n",
       "\n",
       "    .dataframe thead th {\n",
       "        text-align: right;\n",
       "    }\n",
       "</style>\n",
       "<table border=\"1\" class=\"dataframe\">\n",
       "  <thead>\n",
       "    <tr style=\"text-align: right;\">\n",
       "      <th></th>\n",
       "      <th>lp__</th>\n",
       "      <th>accept_stat__</th>\n",
       "      <th>stepsize__</th>\n",
       "      <th>treedepth__</th>\n",
       "      <th>n_leapfrog__</th>\n",
       "      <th>divergent__</th>\n",
       "      <th>energy__</th>\n",
       "      <th>mu</th>\n",
       "      <th>sigma2</th>\n",
       "      <th>beta[1]</th>\n",
       "      <th>...</th>\n",
       "      <th>y_test[192]</th>\n",
       "      <th>y_test[193]</th>\n",
       "      <th>y_test[194]</th>\n",
       "      <th>y_test[195]</th>\n",
       "      <th>y_test[196]</th>\n",
       "      <th>y_test[197]</th>\n",
       "      <th>y_test[198]</th>\n",
       "      <th>y_test[199]</th>\n",
       "      <th>y_test[200]</th>\n",
       "      <th>y_test[201]</th>\n",
       "    </tr>\n",
       "  </thead>\n",
       "  <tbody>\n",
       "    <tr>\n",
       "      <th>0</th>\n",
       "      <td>5435.94</td>\n",
       "      <td>0.998358</td>\n",
       "      <td>0.047989</td>\n",
       "      <td>6.0</td>\n",
       "      <td>127.0</td>\n",
       "      <td>0.0</td>\n",
       "      <td>-4720.42</td>\n",
       "      <td>-0.011029</td>\n",
       "      <td>0.223000</td>\n",
       "      <td>-0.010036</td>\n",
       "      <td>...</td>\n",
       "      <td>-1.087670</td>\n",
       "      <td>2.02977</td>\n",
       "      <td>-0.012876</td>\n",
       "      <td>-0.727844</td>\n",
       "      <td>1.300440</td>\n",
       "      <td>2.09717</td>\n",
       "      <td>-0.392504</td>\n",
       "      <td>-0.738327</td>\n",
       "      <td>-0.332318</td>\n",
       "      <td>0.043353</td>\n",
       "    </tr>\n",
       "    <tr>\n",
       "      <th>1</th>\n",
       "      <td>5442.47</td>\n",
       "      <td>0.873523</td>\n",
       "      <td>0.047989</td>\n",
       "      <td>7.0</td>\n",
       "      <td>127.0</td>\n",
       "      <td>0.0</td>\n",
       "      <td>-4710.05</td>\n",
       "      <td>0.010525</td>\n",
       "      <td>0.222001</td>\n",
       "      <td>0.000343</td>\n",
       "      <td>...</td>\n",
       "      <td>-0.329745</td>\n",
       "      <td>1.61867</td>\n",
       "      <td>-0.578166</td>\n",
       "      <td>-0.603608</td>\n",
       "      <td>0.689908</td>\n",
       "      <td>1.89219</td>\n",
       "      <td>-0.345908</td>\n",
       "      <td>-0.303403</td>\n",
       "      <td>-0.745769</td>\n",
       "      <td>0.205405</td>\n",
       "    </tr>\n",
       "    <tr>\n",
       "      <th>2</th>\n",
       "      <td>5432.94</td>\n",
       "      <td>0.940511</td>\n",
       "      <td>0.047989</td>\n",
       "      <td>7.0</td>\n",
       "      <td>127.0</td>\n",
       "      <td>0.0</td>\n",
       "      <td>-4678.85</td>\n",
       "      <td>0.011783</td>\n",
       "      <td>0.212446</td>\n",
       "      <td>-0.021616</td>\n",
       "      <td>...</td>\n",
       "      <td>-0.014595</td>\n",
       "      <td>1.45626</td>\n",
       "      <td>-1.703580</td>\n",
       "      <td>-0.210036</td>\n",
       "      <td>0.135441</td>\n",
       "      <td>2.34865</td>\n",
       "      <td>-0.343946</td>\n",
       "      <td>-0.270916</td>\n",
       "      <td>-0.082922</td>\n",
       "      <td>0.295281</td>\n",
       "    </tr>\n",
       "    <tr>\n",
       "      <th>3</th>\n",
       "      <td>5411.90</td>\n",
       "      <td>0.795983</td>\n",
       "      <td>0.047989</td>\n",
       "      <td>6.0</td>\n",
       "      <td>127.0</td>\n",
       "      <td>0.0</td>\n",
       "      <td>-4699.52</td>\n",
       "      <td>-0.006152</td>\n",
       "      <td>0.224174</td>\n",
       "      <td>0.016366</td>\n",
       "      <td>...</td>\n",
       "      <td>-0.879587</td>\n",
       "      <td>2.40952</td>\n",
       "      <td>0.115888</td>\n",
       "      <td>-0.854251</td>\n",
       "      <td>0.654837</td>\n",
       "      <td>2.02926</td>\n",
       "      <td>-0.697933</td>\n",
       "      <td>-1.002760</td>\n",
       "      <td>-0.094188</td>\n",
       "      <td>-1.510250</td>\n",
       "    </tr>\n",
       "    <tr>\n",
       "      <th>4</th>\n",
       "      <td>5484.12</td>\n",
       "      <td>0.906310</td>\n",
       "      <td>0.047989</td>\n",
       "      <td>7.0</td>\n",
       "      <td>127.0</td>\n",
       "      <td>0.0</td>\n",
       "      <td>-4715.38</td>\n",
       "      <td>0.002719</td>\n",
       "      <td>0.217375</td>\n",
       "      <td>-0.029023</td>\n",
       "      <td>...</td>\n",
       "      <td>-0.822948</td>\n",
       "      <td>1.79609</td>\n",
       "      <td>-0.699386</td>\n",
       "      <td>-1.254450</td>\n",
       "      <td>0.766367</td>\n",
       "      <td>2.16545</td>\n",
       "      <td>-0.414403</td>\n",
       "      <td>-0.526175</td>\n",
       "      <td>1.000290</td>\n",
       "      <td>0.765211</td>\n",
       "    </tr>\n",
       "    <tr>\n",
       "      <th>...</th>\n",
       "      <td>...</td>\n",
       "      <td>...</td>\n",
       "      <td>...</td>\n",
       "      <td>...</td>\n",
       "      <td>...</td>\n",
       "      <td>...</td>\n",
       "      <td>...</td>\n",
       "      <td>...</td>\n",
       "      <td>...</td>\n",
       "      <td>...</td>\n",
       "      <td>...</td>\n",
       "      <td>...</td>\n",
       "      <td>...</td>\n",
       "      <td>...</td>\n",
       "      <td>...</td>\n",
       "      <td>...</td>\n",
       "      <td>...</td>\n",
       "      <td>...</td>\n",
       "      <td>...</td>\n",
       "      <td>...</td>\n",
       "      <td>...</td>\n",
       "    </tr>\n",
       "    <tr>\n",
       "      <th>3995</th>\n",
       "      <td>5310.14</td>\n",
       "      <td>0.869759</td>\n",
       "      <td>0.061672</td>\n",
       "      <td>6.0</td>\n",
       "      <td>63.0</td>\n",
       "      <td>0.0</td>\n",
       "      <td>-4561.99</td>\n",
       "      <td>-0.009532</td>\n",
       "      <td>0.231494</td>\n",
       "      <td>0.023197</td>\n",
       "      <td>...</td>\n",
       "      <td>-0.882979</td>\n",
       "      <td>1.07527</td>\n",
       "      <td>0.245690</td>\n",
       "      <td>0.653686</td>\n",
       "      <td>1.026740</td>\n",
       "      <td>1.59879</td>\n",
       "      <td>0.073992</td>\n",
       "      <td>-2.084450</td>\n",
       "      <td>-1.169800</td>\n",
       "      <td>-0.133682</td>\n",
       "    </tr>\n",
       "    <tr>\n",
       "      <th>3996</th>\n",
       "      <td>5323.86</td>\n",
       "      <td>0.994131</td>\n",
       "      <td>0.061672</td>\n",
       "      <td>6.0</td>\n",
       "      <td>63.0</td>\n",
       "      <td>0.0</td>\n",
       "      <td>-4571.96</td>\n",
       "      <td>-0.016769</td>\n",
       "      <td>0.218662</td>\n",
       "      <td>0.024060</td>\n",
       "      <td>...</td>\n",
       "      <td>-0.851036</td>\n",
       "      <td>2.09401</td>\n",
       "      <td>-0.830166</td>\n",
       "      <td>-0.304265</td>\n",
       "      <td>1.873780</td>\n",
       "      <td>1.80966</td>\n",
       "      <td>-0.221676</td>\n",
       "      <td>-0.718294</td>\n",
       "      <td>0.001126</td>\n",
       "      <td>0.560246</td>\n",
       "    </tr>\n",
       "    <tr>\n",
       "      <th>3997</th>\n",
       "      <td>5355.86</td>\n",
       "      <td>0.878169</td>\n",
       "      <td>0.061672</td>\n",
       "      <td>6.0</td>\n",
       "      <td>63.0</td>\n",
       "      <td>0.0</td>\n",
       "      <td>-4605.25</td>\n",
       "      <td>-0.002254</td>\n",
       "      <td>0.221169</td>\n",
       "      <td>0.016280</td>\n",
       "      <td>...</td>\n",
       "      <td>-1.073030</td>\n",
       "      <td>1.23086</td>\n",
       "      <td>-0.543395</td>\n",
       "      <td>-1.389700</td>\n",
       "      <td>0.549993</td>\n",
       "      <td>2.38571</td>\n",
       "      <td>-0.594476</td>\n",
       "      <td>-0.468773</td>\n",
       "      <td>-0.069867</td>\n",
       "      <td>0.014201</td>\n",
       "    </tr>\n",
       "    <tr>\n",
       "      <th>3998</th>\n",
       "      <td>5447.37</td>\n",
       "      <td>0.951582</td>\n",
       "      <td>0.061672</td>\n",
       "      <td>6.0</td>\n",
       "      <td>63.0</td>\n",
       "      <td>0.0</td>\n",
       "      <td>-4665.41</td>\n",
       "      <td>0.012305</td>\n",
       "      <td>0.220888</td>\n",
       "      <td>-0.017642</td>\n",
       "      <td>...</td>\n",
       "      <td>-0.179388</td>\n",
       "      <td>1.70345</td>\n",
       "      <td>-1.047590</td>\n",
       "      <td>-0.126710</td>\n",
       "      <td>0.900509</td>\n",
       "      <td>2.62505</td>\n",
       "      <td>-0.574544</td>\n",
       "      <td>-1.778280</td>\n",
       "      <td>0.096722</td>\n",
       "      <td>1.047200</td>\n",
       "    </tr>\n",
       "    <tr>\n",
       "      <th>3999</th>\n",
       "      <td>5379.85</td>\n",
       "      <td>0.995646</td>\n",
       "      <td>0.061672</td>\n",
       "      <td>6.0</td>\n",
       "      <td>63.0</td>\n",
       "      <td>0.0</td>\n",
       "      <td>-4685.70</td>\n",
       "      <td>-0.004350</td>\n",
       "      <td>0.218781</td>\n",
       "      <td>-0.013070</td>\n",
       "      <td>...</td>\n",
       "      <td>0.020529</td>\n",
       "      <td>1.49636</td>\n",
       "      <td>-0.491651</td>\n",
       "      <td>-0.190575</td>\n",
       "      <td>1.103720</td>\n",
       "      <td>2.43053</td>\n",
       "      <td>-0.971760</td>\n",
       "      <td>-0.626895</td>\n",
       "      <td>0.570278</td>\n",
       "      <td>0.290286</td>\n",
       "    </tr>\n",
       "  </tbody>\n",
       "</table>\n",
       "<p>4000 rows × 2456 columns</p>\n",
       "</div>"
      ],
      "text/plain": [
       "         lp__  accept_stat__  stepsize__  treedepth__  n_leapfrog__  \\\n",
       "0     5435.94       0.998358    0.047989          6.0         127.0   \n",
       "1     5442.47       0.873523    0.047989          7.0         127.0   \n",
       "2     5432.94       0.940511    0.047989          7.0         127.0   \n",
       "3     5411.90       0.795983    0.047989          6.0         127.0   \n",
       "4     5484.12       0.906310    0.047989          7.0         127.0   \n",
       "...       ...            ...         ...          ...           ...   \n",
       "3995  5310.14       0.869759    0.061672          6.0          63.0   \n",
       "3996  5323.86       0.994131    0.061672          6.0          63.0   \n",
       "3997  5355.86       0.878169    0.061672          6.0          63.0   \n",
       "3998  5447.37       0.951582    0.061672          6.0          63.0   \n",
       "3999  5379.85       0.995646    0.061672          6.0          63.0   \n",
       "\n",
       "      divergent__  energy__        mu    sigma2   beta[1]  ...  y_test[192]  \\\n",
       "0             0.0  -4720.42 -0.011029  0.223000 -0.010036  ...    -1.087670   \n",
       "1             0.0  -4710.05  0.010525  0.222001  0.000343  ...    -0.329745   \n",
       "2             0.0  -4678.85  0.011783  0.212446 -0.021616  ...    -0.014595   \n",
       "3             0.0  -4699.52 -0.006152  0.224174  0.016366  ...    -0.879587   \n",
       "4             0.0  -4715.38  0.002719  0.217375 -0.029023  ...    -0.822948   \n",
       "...           ...       ...       ...       ...       ...  ...          ...   \n",
       "3995          0.0  -4561.99 -0.009532  0.231494  0.023197  ...    -0.882979   \n",
       "3996          0.0  -4571.96 -0.016769  0.218662  0.024060  ...    -0.851036   \n",
       "3997          0.0  -4605.25 -0.002254  0.221169  0.016280  ...    -1.073030   \n",
       "3998          0.0  -4665.41  0.012305  0.220888 -0.017642  ...    -0.179388   \n",
       "3999          0.0  -4685.70 -0.004350  0.218781 -0.013070  ...     0.020529   \n",
       "\n",
       "      y_test[193]  y_test[194]  y_test[195]  y_test[196]  y_test[197]  \\\n",
       "0         2.02977    -0.012876    -0.727844     1.300440      2.09717   \n",
       "1         1.61867    -0.578166    -0.603608     0.689908      1.89219   \n",
       "2         1.45626    -1.703580    -0.210036     0.135441      2.34865   \n",
       "3         2.40952     0.115888    -0.854251     0.654837      2.02926   \n",
       "4         1.79609    -0.699386    -1.254450     0.766367      2.16545   \n",
       "...           ...          ...          ...          ...          ...   \n",
       "3995      1.07527     0.245690     0.653686     1.026740      1.59879   \n",
       "3996      2.09401    -0.830166    -0.304265     1.873780      1.80966   \n",
       "3997      1.23086    -0.543395    -1.389700     0.549993      2.38571   \n",
       "3998      1.70345    -1.047590    -0.126710     0.900509      2.62505   \n",
       "3999      1.49636    -0.491651    -0.190575     1.103720      2.43053   \n",
       "\n",
       "      y_test[198]  y_test[199]  y_test[200]  y_test[201]  \n",
       "0       -0.392504    -0.738327    -0.332318     0.043353  \n",
       "1       -0.345908    -0.303403    -0.745769     0.205405  \n",
       "2       -0.343946    -0.270916    -0.082922     0.295281  \n",
       "3       -0.697933    -1.002760    -0.094188    -1.510250  \n",
       "4       -0.414403    -0.526175     1.000290     0.765211  \n",
       "...           ...          ...          ...          ...  \n",
       "3995     0.073992    -2.084450    -1.169800    -0.133682  \n",
       "3996    -0.221676    -0.718294     0.001126     0.560246  \n",
       "3997    -0.594476    -0.468773    -0.069867     0.014201  \n",
       "3998    -0.574544    -1.778280     0.096722     1.047200  \n",
       "3999    -0.971760    -0.626895     0.570278     0.290286  \n",
       "\n",
       "[4000 rows x 2456 columns]"
      ]
     },
     "execution_count": 21,
     "metadata": {},
     "output_type": "execute_result"
    }
   ],
   "source": [
    "az.summary(fitR)\n",
    "RidgeDrawsDf = fitR.draws_pd()"
   ]
  },
  {
   "cell_type": "code",
   "execution_count": 25,
   "id": "6a42d343",
   "metadata": {},
   "outputs": [
    {
     "data": {
      "text/plain": [
       "1.0000035152332198"
      ]
     },
     "execution_count": 25,
     "metadata": {},
     "output_type": "execute_result"
    }
   ],
   "source": [
    "# Compute the point estimate of the prediction error\n",
    "mse, draws = pmse(fitR, y_test)\n",
    "mse"
   ]
  },
  {
   "cell_type": "markdown",
   "id": "3d3a648e",
   "metadata": {},
   "source": [
    " ## Plot Predictions against test set"
   ]
  },
  {
   "cell_type": "code",
   "execution_count": null,
   "id": "d8d700df",
   "metadata": {},
   "outputs": [],
   "source": [
    "sns.jointplot(x = y_test, y = draws );"
   ]
  },
  {
   "cell_type": "markdown",
   "id": "d1f0bdf8",
   "metadata": {},
   "source": [
    "# References \n",
    "\n",
    "Bethlehem, R. A., Seidlitz, J., Romero-Garcia, R., Trakoshis, S., Dumas, G., & Lombardo, M. V. (2020). A normative modelling approach reveals age-atypical cortical thickness in a subgroup of males with autism spectrum disorder. Communications biology, 3(1), 486.\n",
    "\n",
    "Di Martino, A., O’connor, D., Chen, B., Alaerts, K., Anderson, J. S., Assaf, M., ... & Milham, M. P. (2017). Enhancing studies of the connectome in autism using the autism brain imaging data exchange II. Scientific data, 4(1), 1-15.\n",
    "\n",
    "Glasser, M. F., Coalson, T. S., Robinson, E. C., Hacker, C. D., Harwell, J., Yacoub, E., ... & Van Essen, D. C. (2016). A multi-modal parcellation of human cerebral cortex. Nature, 536(7615), 171-178."
   ]
  }
 ],
 "metadata": {
  "kernelspec": {
   "display_name": "Python 3 (ipykernel)",
   "language": "python",
   "name": "python3"
  },
  "language_info": {
   "codemirror_mode": {
    "name": "ipython",
    "version": 3
   },
   "file_extension": ".py",
   "mimetype": "text/x-python",
   "name": "python",
   "nbconvert_exporter": "python",
   "pygments_lexer": "ipython3",
   "version": "3.10.12"
  }
 },
 "nbformat": 4,
 "nbformat_minor": 5
}
