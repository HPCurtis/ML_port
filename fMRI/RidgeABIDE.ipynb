{
 "cells": [
  {
   "cell_type": "markdown",
   "id": "307f61d0",
   "metadata": {},
   "source": [
    "# fMRI Machine Learning using Bayesian Regularised Regression\n",
    "\n",
    "The notebook below demonstrates a Machine learning approach to the analysis of the  structural MRI data. The data provided by the Autism Brain Imaging Data Exchange II (ABIBEII) study from Di Martino et al (2017).The study is international collabortion towards the study of Austism. Specifically, by genereating large samples of structural MRI data from multiple international reseacrh sites. The data analysed below is the lightly preprocessed data from  Bethlehem (2020). Here having been downloaded and stored into the associated Datasets github of this notebooks author (see, the repositories https://github.com/HPCurtis?tab=repositories.\n",
    "\n",
    "The ABIBE dataset here contains a range of features that can be categorised broadly into three seperate categories. The first of which are simple identifiers (site, subject). The second are phenotype features (age, sex, diagnosis of autism present). Thirdly, the rest of the data set are 4 set of structural brain features (suface Area, volume, cortical thickness and gyrification)(tagged as fsArea, fsVol, fsCT and fsLGI in the dataset). Each of the four features containing 360 variables resulting in 1440 feaautres in total. Each of the these360 features represents a region of interest specified in the Human Connectome Project Glasser et al. (2016)."
   ]
  },
  {
   "cell_type": "code",
   "execution_count": 11,
   "id": "127c45c3",
   "metadata": {},
   "outputs": [],
   "source": [
    "# Import neccesary python packages.\n",
    "from cmdstanpy import CmdStanModel, write_stan_json\n",
    "import numpy as np\n",
    "import matplotlib.pyplot as plt\n",
    "import seaborn as sns\n",
    "import pandas as pd\n",
    "from sklearn.model_selection import train_test_split\n",
    "from sklearn.preprocessing import scale\n",
    "import arviz as az"
   ]
  },
  {
   "cell_type": "markdown",
   "id": "6f1c8c97",
   "metadata": {},
   "source": [
    "## Define useful functions for the analysis below "
   ]
  },
  {
   "cell_type": "code",
   "execution_count": 12,
   "id": "6624403a",
   "metadata": {},
   "outputs": [],
   "source": [
    "# Define pythonised Prediction mean squared error function for Bayesian regularized regression models.\n",
    "# Based on R function from https://github.com/sara-vanerp/bayesreg/blob/master/R/pmse_lm.R\n",
    "def pmse(object, ytest):\n",
    "    draws = object.draws_pd(vars = 'y_test')\n",
    "    draws = draws.T\n",
    "    postmeans = draws[0].mean()\n",
    "    pmse = np.mean((postmeans-ytest)**2)\n",
    "    return pmse, draws[0] "
   ]
  },
  {
   "cell_type": "markdown",
   "id": "1325a27d",
   "metadata": {},
   "source": [
    "${ \\frac{1}{N} \\Sigma^N_{i=1} (y^{gen}_i - y_i)^2 }$"
   ]
  },
  {
   "cell_type": "markdown",
   "id": "641155a9-18a4-4622-bf84-dd38f1448013",
   "metadata": {},
   "source": [
    "# Data cleaning"
   ]
  },
  {
   "cell_type": "code",
   "execution_count": 13,
   "id": "f8e9ccad",
   "metadata": {},
   "outputs": [],
   "source": [
    "# Read ABIDEII dataset from github using pandas.\n",
    "d =  pd.read_csv('https://raw.githubusercontent.com/HPCurtis/Datasets/main/abide2.csv')"
   ]
  },
  {
   "cell_type": "code",
   "execution_count": 14,
   "id": "7690cda2",
   "metadata": {},
   "outputs": [
    {
     "data": {
      "text/html": [
       "<div>\n",
       "<style scoped>\n",
       "    .dataframe tbody tr th:only-of-type {\n",
       "        vertical-align: middle;\n",
       "    }\n",
       "\n",
       "    .dataframe tbody tr th {\n",
       "        vertical-align: top;\n",
       "    }\n",
       "\n",
       "    .dataframe thead th {\n",
       "        text-align: right;\n",
       "    }\n",
       "</style>\n",
       "<table border=\"1\" class=\"dataframe\">\n",
       "  <thead>\n",
       "    <tr style=\"text-align: right;\">\n",
       "      <th></th>\n",
       "      <th>Unnamed: 0</th>\n",
       "      <th>site</th>\n",
       "      <th>subject</th>\n",
       "      <th>age</th>\n",
       "      <th>sex</th>\n",
       "      <th>group</th>\n",
       "      <th>age_resid</th>\n",
       "      <th>fsArea_L_V1_ROI</th>\n",
       "      <th>fsArea_L_MST_ROI</th>\n",
       "      <th>fsArea_L_V6_ROI</th>\n",
       "      <th>...</th>\n",
       "      <th>fsCT_R_p47r_ROI</th>\n",
       "      <th>fsCT_R_TGv_ROI</th>\n",
       "      <th>fsCT_R_MBelt_ROI</th>\n",
       "      <th>fsCT_R_LBelt_ROI</th>\n",
       "      <th>fsCT_R_A4_ROI</th>\n",
       "      <th>fsCT_R_STSva_ROI</th>\n",
       "      <th>fsCT_R_TE1m_ROI</th>\n",
       "      <th>fsCT_R_PI_ROI</th>\n",
       "      <th>fsCT_R_a32pr_ROI</th>\n",
       "      <th>fsCT_R_p24_ROI</th>\n",
       "    </tr>\n",
       "  </thead>\n",
       "  <tbody>\n",
       "    <tr>\n",
       "      <th>0</th>\n",
       "      <td>0</td>\n",
       "      <td>ABIDEII-KKI_1</td>\n",
       "      <td>29293</td>\n",
       "      <td>8.893151</td>\n",
       "      <td>2.0</td>\n",
       "      <td>1.0</td>\n",
       "      <td>13.642852</td>\n",
       "      <td>2750.0</td>\n",
       "      <td>306.0</td>\n",
       "      <td>354.0</td>\n",
       "      <td>...</td>\n",
       "      <td>3.362</td>\n",
       "      <td>2.827</td>\n",
       "      <td>2.777</td>\n",
       "      <td>2.526</td>\n",
       "      <td>3.202</td>\n",
       "      <td>3.024</td>\n",
       "      <td>3.354</td>\n",
       "      <td>2.629</td>\n",
       "      <td>2.699</td>\n",
       "      <td>3.179</td>\n",
       "    </tr>\n",
       "    <tr>\n",
       "      <th>1</th>\n",
       "      <td>1</td>\n",
       "      <td>ABIDEII-OHSU_1</td>\n",
       "      <td>28997</td>\n",
       "      <td>12.000000</td>\n",
       "      <td>2.0</td>\n",
       "      <td>1.0</td>\n",
       "      <td>16.081732</td>\n",
       "      <td>2836.0</td>\n",
       "      <td>186.0</td>\n",
       "      <td>354.0</td>\n",
       "      <td>...</td>\n",
       "      <td>2.809</td>\n",
       "      <td>3.539</td>\n",
       "      <td>2.944</td>\n",
       "      <td>2.769</td>\n",
       "      <td>3.530</td>\n",
       "      <td>3.079</td>\n",
       "      <td>3.282</td>\n",
       "      <td>2.670</td>\n",
       "      <td>2.746</td>\n",
       "      <td>3.324</td>\n",
       "    </tr>\n",
       "    <tr>\n",
       "      <th>2</th>\n",
       "      <td>2</td>\n",
       "      <td>ABIDEII-GU_1</td>\n",
       "      <td>28845</td>\n",
       "      <td>8.390000</td>\n",
       "      <td>1.0</td>\n",
       "      <td>2.0</td>\n",
       "      <td>12.866264</td>\n",
       "      <td>3394.0</td>\n",
       "      <td>223.0</td>\n",
       "      <td>373.0</td>\n",
       "      <td>...</td>\n",
       "      <td>2.435</td>\n",
       "      <td>3.321</td>\n",
       "      <td>2.799</td>\n",
       "      <td>2.388</td>\n",
       "      <td>3.148</td>\n",
       "      <td>3.125</td>\n",
       "      <td>3.116</td>\n",
       "      <td>2.891</td>\n",
       "      <td>2.940</td>\n",
       "      <td>3.232</td>\n",
       "    </tr>\n",
       "  </tbody>\n",
       "</table>\n",
       "<p>3 rows × 1447 columns</p>\n",
       "</div>"
      ],
      "text/plain": [
       "   Unnamed: 0            site  subject        age  sex  group  age_resid  \\\n",
       "0           0   ABIDEII-KKI_1    29293   8.893151  2.0    1.0  13.642852   \n",
       "1           1  ABIDEII-OHSU_1    28997  12.000000  2.0    1.0  16.081732   \n",
       "2           2    ABIDEII-GU_1    28845   8.390000  1.0    2.0  12.866264   \n",
       "\n",
       "   fsArea_L_V1_ROI  fsArea_L_MST_ROI  fsArea_L_V6_ROI  ...  fsCT_R_p47r_ROI  \\\n",
       "0           2750.0             306.0            354.0  ...            3.362   \n",
       "1           2836.0             186.0            354.0  ...            2.809   \n",
       "2           3394.0             223.0            373.0  ...            2.435   \n",
       "\n",
       "   fsCT_R_TGv_ROI  fsCT_R_MBelt_ROI  fsCT_R_LBelt_ROI  fsCT_R_A4_ROI  \\\n",
       "0           2.827             2.777             2.526          3.202   \n",
       "1           3.539             2.944             2.769          3.530   \n",
       "2           3.321             2.799             2.388          3.148   \n",
       "\n",
       "   fsCT_R_STSva_ROI  fsCT_R_TE1m_ROI  fsCT_R_PI_ROI  fsCT_R_a32pr_ROI  \\\n",
       "0             3.024            3.354          2.629             2.699   \n",
       "1             3.079            3.282          2.670             2.746   \n",
       "2             3.125            3.116          2.891             2.940   \n",
       "\n",
       "   fsCT_R_p24_ROI  \n",
       "0           3.179  \n",
       "1           3.324  \n",
       "2           3.232  \n",
       "\n",
       "[3 rows x 1447 columns]"
      ]
     },
     "execution_count": 14,
     "metadata": {},
     "output_type": "execute_result"
    }
   ],
   "source": [
    "# View the top three rows of dataset.\n",
    "d.head(3)"
   ]
  },
  {
   "cell_type": "code",
   "execution_count": 15,
   "id": "84a477cd",
   "metadata": {},
   "outputs": [],
   "source": [
    "# Extract \n",
    "y = d.age\n",
    "features = d.filter(like='fs')"
   ]
  },
  {
   "cell_type": "code",
   "execution_count": 16,
   "id": "f725c96d",
   "metadata": {},
   "outputs": [],
   "source": [
    "# Split data into training and test sets using sklearn train_test_split.\n",
    "X_train, X_test, y_train, y_test = train_test_split(features, y, train_size = 0.8)\n",
    "\n",
    "# Standardise the y_test data so they are on the same scale so predciton error is on the \n",
    "# equivalent scale\n",
    "y_test = scale(np.asarray(y_test))\n",
    "\n",
    "# Create python dictionary to passs the data of the anlaysis to\n",
    "# the prerequisite .JSON file below\n",
    "dataDic = {'N_train': len(X_train),\n",
    "           'N_test': len(X_test),\n",
    "           'p': np.shape(X_train)[1],\n",
    "           'X_train': X_train,\n",
    "           'X_test': X_test,\n",
    "           'y_train': y_train\n",
    "           }\n",
    "\n",
    "# Write JSON file for data to be passed to Stan.\n",
    "write_stan_json(path = 'RegRegABIDE.json' , data = dataDic)"
   ]
  },
  {
   "cell_type": "markdown",
   "id": "a36579b2",
   "metadata": {},
   "source": [
    "# Bayesian LASSO regression"
   ]
  },
  {
   "cell_type": "code",
   "execution_count": 29,
   "id": "bdfa37d0-ed4a-46ee-afa8-f1f645bebbdb",
   "metadata": {},
   "outputs": [
    {
     "name": "stderr",
     "output_type": "stream",
     "text": [
      "14:54:54 - cmdstanpy - INFO - compiling stan file /home/harrison/Desktop/gitHubRepos/ML_port/fMRI/RegLasso.stan to exe file /home/harrison/Desktop/gitHubRepos/ML_port/fMRI/RegLasso\n",
      "14:55:14 - cmdstanpy - INFO - compiled model executable: /home/harrison/Desktop/gitHubRepos/ML_port/fMRI/RegLasso\n",
      "14:55:14 - cmdstanpy - WARNING - Stan compiler has produced 1 warnings:\n",
      "14:55:14 - cmdstanpy - WARNING - \n",
      "--- Translating Stan model to C++ code ---\n",
      "bin/stanc  --o=/home/harrison/Desktop/gitHubRepos/ML_port/fMRI/RegLasso.hpp /home/harrison/Desktop/gitHubRepos/ML_port/fMRI/RegLasso.stan\n",
      "Warning in '/home/harrison/Desktop/gitHubRepos/ML_port/fMRI/RegLasso.stan', line 50, column 1: Declaration\n",
      "    of arrays by placing brackets after a variable name is deprecated and\n",
      "    will be removed in Stan 2.32.0. Instead use the array keyword before the\n",
      "    type. This can be changed automatically using the auto-format flag to\n",
      "    stanc\n",
      "\n",
      "--- Compiling, linking C++ code ---\n",
      "/home/harrison/anaconda3/envs/ML_env/bin/x86_64-conda-linux-gnu-c++ -fvisibility-inlines-hidden -std=c++17 -fmessage-length=0 -march=nocona -mtune=haswell -ftree-vectorize -fPIC -fstack-protector-strong -fno-plt -O2 -ffunction-sections -pipe -isystem /home/harrison/anaconda3/envs/ML_env/include -std=c++1y -D_REENTRANT -Wno-sign-compare -Wno-ignored-attributes     -DSTAN_THREADS -I /home/harrison/anaconda3/envs/ML_env/include/    -O3 -I src -I stan/src -I stan/lib/rapidjson_1.1.0/ -I lib/CLI11-1.9.1/ -I stan/lib/stan_math/ -I stan/lib/stan_math/lib/eigen_3.3.9 -I stan/lib/stan_math/lib/boost_1.78.0 -I stan/lib/stan_math/lib/sundials_6.1.1/include -I stan/lib/stan_math/lib/sundials_6.1.1/src/sundials -DNDEBUG -D_FORTIFY_SOURCE=2 -O2 -isystem /home/harrison/anaconda3/envs/ML_env/include    -DBOOST_DISABLE_ASSERTS   -DTBB_INTERFACE_NEW  -DTBB_INTERFACE_NEW     -c  -x c++ -o /home/harrison/Desktop/gitHubRepos/ML_port/fMRI/RegLasso.o /home/harrison/Desktop/gitHubRepos/ML_port/fMRI/RegLasso.hpp\n",
      "/home/harrison/anaconda3/envs/ML_env/bin/x86_64-conda-linux-gnu-c++ -fvisibility-inlines-hidden -std=c++17 -fmessage-length=0 -march=nocona -mtune=haswell -ftree-vectorize -fPIC -fstack-protector-strong -fno-plt -O2 -ffunction-sections -pipe -isystem /home/harrison/anaconda3/envs/ML_env/include -std=c++1y -D_REENTRANT -Wno-sign-compare -Wno-ignored-attributes     -DSTAN_THREADS -I /home/harrison/anaconda3/envs/ML_env/include/    -O3 -I src -I stan/src -I stan/lib/rapidjson_1.1.0/ -I lib/CLI11-1.9.1/ -I stan/lib/stan_math/ -I stan/lib/stan_math/lib/eigen_3.3.9 -I stan/lib/stan_math/lib/boost_1.78.0 -I stan/lib/stan_math/lib/sundials_6.1.1/include -I stan/lib/stan_math/lib/sundials_6.1.1/src/sundials -DNDEBUG -D_FORTIFY_SOURCE=2 -O2 -isystem /home/harrison/anaconda3/envs/ML_env/include    -DBOOST_DISABLE_ASSERTS   -DTBB_INTERFACE_NEW  -DTBB_INTERFACE_NEW    -Wl,-O2 -Wl,--sort-common -Wl,--as-needed -Wl,-z,relro -Wl,-z,now -Wl,--disable-new-dtags -Wl,--gc-sections -Wl,-rpath,/home/harrison/anaconda3/envs/ML_env/lib -Wl,-rpath-link,/home/harrison/anaconda3/envs/ML_env/lib -L/home/harrison/anaconda3/envs/ML_env/lib        -Wl,-L,\"/home/harrison/anaconda3/envs/ML_env/lib/\" -Wl,-rpath,\"/home/harrison/anaconda3/envs/ML_env/lib/\" -Wl,--disable-new-dtags -ltbb    /home/harrison/Desktop/gitHubRepos/ML_port/fMRI/RegLasso.o src/cmdstan/main_threads.o        -Wl,-L,\"/home/harrison/anaconda3/envs/ML_env/lib/\" -Wl,-rpath,\"/home/harrison/anaconda3/envs/ML_env/lib/\" -Wl,--disable-new-dtags -ltbb stan/lib/stan_math/lib/sundials_6.1.1/lib/libsundials_nvecserial.a stan/lib/stan_math/lib/sundials_6.1.1/lib/libsundials_cvodes.a stan/lib/stan_math/lib/sundials_6.1.1/lib/libsundials_idas.a stan/lib/stan_math/lib/sundials_6.1.1/lib/libsundials_kinsol.a   -o /home/harrison/Desktop/gitHubRepos/ML_port/fMRI/RegLasso\n",
      "rm -f /home/harrison/Desktop/gitHubRepos/ML_port/fMRI/RegLasso.o\n",
      "\n"
     ]
    }
   ],
   "source": [
    "# Compile stan model into C++.\n",
    "modelL = CmdStanModel(stan_file = 'RegLasso.stan', cpp_options={'STAN_THREADS':'true'})"
   ]
  },
  {
   "cell_type": "code",
   "execution_count": 32,
   "id": "744b560a-d41b-44a7-94fc-93215e683a15",
   "metadata": {},
   "outputs": [
    {
     "name": "stderr",
     "output_type": "stream",
     "text": [
      "14:58:42 - cmdstanpy - INFO - Chain [1] start processing\n",
      "15:00:27 - cmdstanpy - INFO - Chain [1] done processing\n",
      "15:00:27 - cmdstanpy - WARNING - The algorithm may not have converged.\n",
      "Proceeding because require_converged is set to False\n"
     ]
    }
   ],
   "source": [
    "# Use varaitional infernce to calculate init values to speed up HMC sampling below. \n",
    "vbfitL = modelL.variational(data ='RegRegABIDE.json', require_converged = False, seed = 1, grad_samples = 10)\n",
    "vbL_vars = vbfitL.stan_variables()"
   ]
  },
  {
   "cell_type": "code",
   "execution_count": 33,
   "id": "747b3328-cfc6-4c3f-8fed-18607db9693a",
   "metadata": {},
   "outputs": [
    {
     "name": "stderr",
     "output_type": "stream",
     "text": [
      "15:00:27 - cmdstanpy - INFO - CmdStan start processing\n"
     ]
    },
    {
     "data": {
      "application/vnd.jupyter.widget-view+json": {
       "model_id": "cd823526912f4ac99af35f5c547d207b",
       "version_major": 2,
       "version_minor": 0
      },
      "text/plain": [
       "chain 1 |          | 00:00 Status"
      ]
     },
     "metadata": {},
     "output_type": "display_data"
    },
    {
     "data": {
      "application/vnd.jupyter.widget-view+json": {
       "model_id": "16fbe0503b124a84bfa57eb44a806d60",
       "version_major": 2,
       "version_minor": 0
      },
      "text/plain": [
       "chain 2 |          | 00:00 Status"
      ]
     },
     "metadata": {},
     "output_type": "display_data"
    },
    {
     "data": {
      "application/vnd.jupyter.widget-view+json": {
       "model_id": "bec5f7bb4fdf40d6a3b14a029075d4d4",
       "version_major": 2,
       "version_minor": 0
      },
      "text/plain": [
       "chain 3 |          | 00:00 Status"
      ]
     },
     "metadata": {},
     "output_type": "display_data"
    },
    {
     "data": {
      "application/vnd.jupyter.widget-view+json": {
       "model_id": "96487666303041e3a12d9368790417cd",
       "version_major": 2,
       "version_minor": 0
      },
      "text/plain": [
       "chain 4 |          | 00:00 Status"
      ]
     },
     "metadata": {},
     "output_type": "display_data"
    },
    {
     "name": "stdout",
     "output_type": "stream",
     "text": [
      "                                                                                                                                                                                                                                                                                                                                "
     ]
    },
    {
     "name": "stderr",
     "output_type": "stream",
     "text": [
      "15:15:33 - cmdstanpy - INFO - CmdStan done processing.\n",
      "15:15:33 - cmdstanpy - WARNING - Non-fatal error during sampling:\n",
      "Exception: double_exponential_lpdf: Scale parameter is 0, but must be positive finite! (in '/home/harrison/Desktop/gitHubRepos/ML_port/fMRI/RegLasso.stan', line 40, column 1 to column 44)\n",
      "\tException: double_exponential_lpdf: Scale parameter is -nan, but must be positive finite! (in '/home/harrison/Desktop/gitHubRepos/ML_port/fMRI/RegLasso.stan', line 40, column 1 to column 44)\n",
      "\tException: double_exponential_lpdf: Scale parameter is 0, but must be positive finite! (in '/home/harrison/Desktop/gitHubRepos/ML_port/fMRI/RegLasso.stan', line 40, column 1 to column 44)\n",
      "\tException: double_exponential_lpdf: Scale parameter is -nan, but must be positive finite! (in '/home/harrison/Desktop/gitHubRepos/ML_port/fMRI/RegLasso.stan', line 40, column 1 to column 44)\n",
      "Consider re-running with show_console=True if the above output is unclear!\n"
     ]
    },
    {
     "name": "stdout",
     "output_type": "stream",
     "text": [
      "\n"
     ]
    }
   ],
   "source": [
    "# fit the Stan model to the data.\n",
    "fitL = modelL.sample(data ='RegRegABIDE.json', chains = 4, inits = vbL_vars, iter_sampling = 1000, iter_warmup = 500);"
   ]
  },
  {
   "cell_type": "code",
   "execution_count": 51,
   "id": "c9f6e170-43bc-4b6a-8880-a917a2599f5f",
   "metadata": {},
   "outputs": [],
   "source": [
    "summL = az.summary(fitL)\n",
    "#summL.to_csv('LassoSummary.csv')\n",
    "LassoDrawsDf = fitL.draws_pd()\n",
    "LassoDrawsDf.to_csv('LassoSamples.csv')"
   ]
  },
  {
   "cell_type": "code",
   "execution_count": 37,
   "id": "810c284e-0532-442e-ba6a-f83be7944c37",
   "metadata": {},
   "outputs": [
    {
     "data": {
      "text/html": [
       "<div>\n",
       "<style scoped>\n",
       "    .dataframe tbody tr th:only-of-type {\n",
       "        vertical-align: middle;\n",
       "    }\n",
       "\n",
       "    .dataframe tbody tr th {\n",
       "        vertical-align: top;\n",
       "    }\n",
       "\n",
       "    .dataframe thead th {\n",
       "        text-align: right;\n",
       "    }\n",
       "</style>\n",
       "<table border=\"1\" class=\"dataframe\">\n",
       "  <thead>\n",
       "    <tr style=\"text-align: right;\">\n",
       "      <th></th>\n",
       "      <th>mean</th>\n",
       "      <th>sd</th>\n",
       "      <th>hdi_3%</th>\n",
       "      <th>hdi_97%</th>\n",
       "      <th>mcse_mean</th>\n",
       "      <th>mcse_sd</th>\n",
       "      <th>ess_bulk</th>\n",
       "      <th>ess_tail</th>\n",
       "      <th>r_hat</th>\n",
       "    </tr>\n",
       "  </thead>\n",
       "  <tbody>\n",
       "    <tr>\n",
       "      <th>mu</th>\n",
       "      <td>0.000</td>\n",
       "      <td>0.016</td>\n",
       "      <td>-0.029</td>\n",
       "      <td>0.031</td>\n",
       "      <td>0.000</td>\n",
       "      <td>0.000</td>\n",
       "      <td>4413.0</td>\n",
       "      <td>2594.0</td>\n",
       "      <td>1.0</td>\n",
       "    </tr>\n",
       "    <tr>\n",
       "      <th>sigma2</th>\n",
       "      <td>0.216</td>\n",
       "      <td>0.015</td>\n",
       "      <td>0.189</td>\n",
       "      <td>0.243</td>\n",
       "      <td>0.000</td>\n",
       "      <td>0.000</td>\n",
       "      <td>1490.0</td>\n",
       "      <td>2373.0</td>\n",
       "      <td>1.0</td>\n",
       "    </tr>\n",
       "    <tr>\n",
       "      <th>beta[0]</th>\n",
       "      <td>-0.002</td>\n",
       "      <td>0.013</td>\n",
       "      <td>-0.031</td>\n",
       "      <td>0.021</td>\n",
       "      <td>0.000</td>\n",
       "      <td>0.000</td>\n",
       "      <td>4027.0</td>\n",
       "      <td>2309.0</td>\n",
       "      <td>1.0</td>\n",
       "    </tr>\n",
       "    <tr>\n",
       "      <th>beta[1]</th>\n",
       "      <td>-0.002</td>\n",
       "      <td>0.014</td>\n",
       "      <td>-0.031</td>\n",
       "      <td>0.025</td>\n",
       "      <td>0.000</td>\n",
       "      <td>0.000</td>\n",
       "      <td>3534.0</td>\n",
       "      <td>1758.0</td>\n",
       "      <td>1.0</td>\n",
       "    </tr>\n",
       "    <tr>\n",
       "      <th>beta[2]</th>\n",
       "      <td>0.001</td>\n",
       "      <td>0.014</td>\n",
       "      <td>-0.026</td>\n",
       "      <td>0.026</td>\n",
       "      <td>0.000</td>\n",
       "      <td>0.000</td>\n",
       "      <td>3072.0</td>\n",
       "      <td>2047.0</td>\n",
       "      <td>1.0</td>\n",
       "    </tr>\n",
       "    <tr>\n",
       "      <th>...</th>\n",
       "      <td>...</td>\n",
       "      <td>...</td>\n",
       "      <td>...</td>\n",
       "      <td>...</td>\n",
       "      <td>...</td>\n",
       "      <td>...</td>\n",
       "      <td>...</td>\n",
       "      <td>...</td>\n",
       "      <td>...</td>\n",
       "    </tr>\n",
       "    <tr>\n",
       "      <th>y_test[196]</th>\n",
       "      <td>2.217</td>\n",
       "      <td>0.546</td>\n",
       "      <td>1.192</td>\n",
       "      <td>3.233</td>\n",
       "      <td>0.009</td>\n",
       "      <td>0.006</td>\n",
       "      <td>3910.0</td>\n",
       "      <td>3822.0</td>\n",
       "      <td>1.0</td>\n",
       "    </tr>\n",
       "    <tr>\n",
       "      <th>y_test[197]</th>\n",
       "      <td>-0.429</td>\n",
       "      <td>0.565</td>\n",
       "      <td>-1.554</td>\n",
       "      <td>0.586</td>\n",
       "      <td>0.009</td>\n",
       "      <td>0.007</td>\n",
       "      <td>3643.0</td>\n",
       "      <td>3732.0</td>\n",
       "      <td>1.0</td>\n",
       "    </tr>\n",
       "    <tr>\n",
       "      <th>y_test[198]</th>\n",
       "      <td>-1.056</td>\n",
       "      <td>0.532</td>\n",
       "      <td>-2.102</td>\n",
       "      <td>-0.104</td>\n",
       "      <td>0.009</td>\n",
       "      <td>0.006</td>\n",
       "      <td>3636.0</td>\n",
       "      <td>3749.0</td>\n",
       "      <td>1.0</td>\n",
       "    </tr>\n",
       "    <tr>\n",
       "      <th>y_test[199]</th>\n",
       "      <td>-0.148</td>\n",
       "      <td>0.550</td>\n",
       "      <td>-1.216</td>\n",
       "      <td>0.827</td>\n",
       "      <td>0.009</td>\n",
       "      <td>0.006</td>\n",
       "      <td>3622.0</td>\n",
       "      <td>3811.0</td>\n",
       "      <td>1.0</td>\n",
       "    </tr>\n",
       "    <tr>\n",
       "      <th>y_test[200]</th>\n",
       "      <td>0.152</td>\n",
       "      <td>0.584</td>\n",
       "      <td>-0.931</td>\n",
       "      <td>1.247</td>\n",
       "      <td>0.009</td>\n",
       "      <td>0.007</td>\n",
       "      <td>4048.0</td>\n",
       "      <td>3953.0</td>\n",
       "      <td>1.0</td>\n",
       "    </tr>\n",
       "  </tbody>\n",
       "</table>\n",
       "<p>2448 rows × 9 columns</p>\n",
       "</div>"
      ],
      "text/plain": [
       "              mean     sd  hdi_3%  hdi_97%  mcse_mean  mcse_sd  ess_bulk  \\\n",
       "mu           0.000  0.016  -0.029    0.031      0.000    0.000    4413.0   \n",
       "sigma2       0.216  0.015   0.189    0.243      0.000    0.000    1490.0   \n",
       "beta[0]     -0.002  0.013  -0.031    0.021      0.000    0.000    4027.0   \n",
       "beta[1]     -0.002  0.014  -0.031    0.025      0.000    0.000    3534.0   \n",
       "beta[2]      0.001  0.014  -0.026    0.026      0.000    0.000    3072.0   \n",
       "...            ...    ...     ...      ...        ...      ...       ...   \n",
       "y_test[196]  2.217  0.546   1.192    3.233      0.009    0.006    3910.0   \n",
       "y_test[197] -0.429  0.565  -1.554    0.586      0.009    0.007    3643.0   \n",
       "y_test[198] -1.056  0.532  -2.102   -0.104      0.009    0.006    3636.0   \n",
       "y_test[199] -0.148  0.550  -1.216    0.827      0.009    0.006    3622.0   \n",
       "y_test[200]  0.152  0.584  -0.931    1.247      0.009    0.007    4048.0   \n",
       "\n",
       "             ess_tail  r_hat  \n",
       "mu             2594.0    1.0  \n",
       "sigma2         2373.0    1.0  \n",
       "beta[0]        2309.0    1.0  \n",
       "beta[1]        1758.0    1.0  \n",
       "beta[2]        2047.0    1.0  \n",
       "...               ...    ...  \n",
       "y_test[196]    3822.0    1.0  \n",
       "y_test[197]    3732.0    1.0  \n",
       "y_test[198]    3749.0    1.0  \n",
       "y_test[199]    3811.0    1.0  \n",
       "y_test[200]    3953.0    1.0  \n",
       "\n",
       "[2448 rows x 9 columns]"
      ]
     },
     "execution_count": 37,
     "metadata": {},
     "output_type": "execute_result"
    }
   ],
   "source": [
    "summL"
   ]
  },
  {
   "cell_type": "code",
   "execution_count": 43,
   "id": "e261a1dc-a0c8-4f72-b46d-f51d00303838",
   "metadata": {},
   "outputs": [],
   "source": [
    "LassoDrawsDf;"
   ]
  },
  {
   "cell_type": "code",
   "execution_count": 45,
   "id": "88027944-7898-4083-8f82-c6ae9f2f6e80",
   "metadata": {},
   "outputs": [],
   "source": [
    "# Compute the point estimate of the prediction error\n",
    "mseL, drawsL = pmse(fitL, y_test)"
   ]
  },
  {
   "cell_type": "code",
   "execution_count": 46,
   "id": "e8464fb0-544e-4782-8d2d-b611f08ff227",
   "metadata": {},
   "outputs": [
    {
     "name": "stderr",
     "output_type": "stream",
     "text": [
      "/home/harrison/anaconda3/envs/ML_env/lib/python3.10/site-packages/seaborn/_oldcore.py:1498: FutureWarning: is_categorical_dtype is deprecated and will be removed in a future version. Use isinstance(dtype, CategoricalDtype) instead\n",
      "  if pd.api.types.is_categorical_dtype(vector):\n",
      "/home/harrison/anaconda3/envs/ML_env/lib/python3.10/site-packages/seaborn/_oldcore.py:1498: FutureWarning: is_categorical_dtype is deprecated and will be removed in a future version. Use isinstance(dtype, CategoricalDtype) instead\n",
      "  if pd.api.types.is_categorical_dtype(vector):\n",
      "/home/harrison/anaconda3/envs/ML_env/lib/python3.10/site-packages/seaborn/_oldcore.py:1498: FutureWarning: is_categorical_dtype is deprecated and will be removed in a future version. Use isinstance(dtype, CategoricalDtype) instead\n",
      "  if pd.api.types.is_categorical_dtype(vector):\n",
      "/home/harrison/anaconda3/envs/ML_env/lib/python3.10/site-packages/seaborn/_oldcore.py:1498: FutureWarning: is_categorical_dtype is deprecated and will be removed in a future version. Use isinstance(dtype, CategoricalDtype) instead\n",
      "  if pd.api.types.is_categorical_dtype(vector):\n",
      "/home/harrison/anaconda3/envs/ML_env/lib/python3.10/site-packages/seaborn/_oldcore.py:1498: FutureWarning: is_categorical_dtype is deprecated and will be removed in a future version. Use isinstance(dtype, CategoricalDtype) instead\n",
      "  if pd.api.types.is_categorical_dtype(vector):\n",
      "/home/harrison/anaconda3/envs/ML_env/lib/python3.10/site-packages/seaborn/_oldcore.py:1119: FutureWarning: use_inf_as_na option is deprecated and will be removed in a future version. Convert inf values to NaN before operating instead.\n",
      "  with pd.option_context('mode.use_inf_as_na', True):\n",
      "/home/harrison/anaconda3/envs/ML_env/lib/python3.10/site-packages/seaborn/_oldcore.py:1498: FutureWarning: is_categorical_dtype is deprecated and will be removed in a future version. Use isinstance(dtype, CategoricalDtype) instead\n",
      "  if pd.api.types.is_categorical_dtype(vector):\n",
      "/home/harrison/anaconda3/envs/ML_env/lib/python3.10/site-packages/seaborn/_oldcore.py:1119: FutureWarning: use_inf_as_na option is deprecated and will be removed in a future version. Convert inf values to NaN before operating instead.\n",
      "  with pd.option_context('mode.use_inf_as_na', True):\n"
     ]
    },
    {
     "data": {
      "image/png": "[encoded data removed]",
      "text/plain": [
       "<Figure size 600x600 with 3 Axes>"
      ]
     },
     "metadata": {},
     "output_type": "display_data"
    }
   ],
   "source": [
    "sns.jointplot(x = y_test, y = drawsL );"
   ]
  },
  {
   "cell_type": "markdown",
   "id": "42a73396",
   "metadata": {},
   "source": [
    "# Bayesian Ridge Regression analysis"
   ]
  },
  {
   "cell_type": "code",
   "execution_count": 17,
   "id": "34122b39",
   "metadata": {},
   "outputs": [
    {
     "name": "stderr",
     "output_type": "stream",
     "text": [
      "14:44:58 - cmdstanpy - INFO - compiling stan file /home/harrison/Desktop/gitHubRepos/ML_port/fMRI/RegReg.stan to exe file /home/harrison/Desktop/gitHubRepos/ML_port/fMRI/RegReg\n",
      "14:45:17 - cmdstanpy - INFO - compiled model executable: /home/harrison/Desktop/gitHubRepos/ML_port/fMRI/RegReg\n",
      "14:45:17 - cmdstanpy - WARNING - Stan compiler has produced 1 warnings:\n",
      "14:45:17 - cmdstanpy - WARNING - \n",
      "--- Translating Stan model to C++ code ---\n",
      "bin/stanc  --o=/home/harrison/Desktop/gitHubRepos/ML_port/fMRI/RegReg.hpp /home/harrison/Desktop/gitHubRepos/ML_port/fMRI/RegReg.stan\n",
      "Warning in '/home/harrison/Desktop/gitHubRepos/ML_port/fMRI/RegReg.stan', line 54, column 1: Declaration\n",
      "    of arrays by placing brackets after a variable name is deprecated and\n",
      "    will be removed in Stan 2.32.0. Instead use the array keyword before the\n",
      "    type. This can be changed automatically using the auto-format flag to\n",
      "    stanc\n",
      "\n",
      "--- Compiling, linking C++ code ---\n",
      "/home/harrison/anaconda3/envs/ML_env/bin/x86_64-conda-linux-gnu-c++ -fvisibility-inlines-hidden -std=c++17 -fmessage-length=0 -march=nocona -mtune=haswell -ftree-vectorize -fPIC -fstack-protector-strong -fno-plt -O2 -ffunction-sections -pipe -isystem /home/harrison/anaconda3/envs/ML_env/include -std=c++1y -D_REENTRANT -Wno-sign-compare -Wno-ignored-attributes     -DSTAN_THREADS -I /home/harrison/anaconda3/envs/ML_env/include/    -O3 -I src -I stan/src -I stan/lib/rapidjson_1.1.0/ -I lib/CLI11-1.9.1/ -I stan/lib/stan_math/ -I stan/lib/stan_math/lib/eigen_3.3.9 -I stan/lib/stan_math/lib/boost_1.78.0 -I stan/lib/stan_math/lib/sundials_6.1.1/include -I stan/lib/stan_math/lib/sundials_6.1.1/src/sundials -DNDEBUG -D_FORTIFY_SOURCE=2 -O2 -isystem /home/harrison/anaconda3/envs/ML_env/include    -DBOOST_DISABLE_ASSERTS   -DTBB_INTERFACE_NEW  -DTBB_INTERFACE_NEW     -c  -x c++ -o /home/harrison/Desktop/gitHubRepos/ML_port/fMRI/RegReg.o /home/harrison/Desktop/gitHubRepos/ML_port/fMRI/RegReg.hpp\n",
      "/home/harrison/anaconda3/envs/ML_env/bin/x86_64-conda-linux-gnu-c++ -fvisibility-inlines-hidden -std=c++17 -fmessage-length=0 -march=nocona -mtune=haswell -ftree-vectorize -fPIC -fstack-protector-strong -fno-plt -O2 -ffunction-sections -pipe -isystem /home/harrison/anaconda3/envs/ML_env/include -std=c++1y -D_REENTRANT -Wno-sign-compare -Wno-ignored-attributes     -DSTAN_THREADS -I /home/harrison/anaconda3/envs/ML_env/include/    -O3 -I src -I stan/src -I stan/lib/rapidjson_1.1.0/ -I lib/CLI11-1.9.1/ -I stan/lib/stan_math/ -I stan/lib/stan_math/lib/eigen_3.3.9 -I stan/lib/stan_math/lib/boost_1.78.0 -I stan/lib/stan_math/lib/sundials_6.1.1/include -I stan/lib/stan_math/lib/sundials_6.1.1/src/sundials -DNDEBUG -D_FORTIFY_SOURCE=2 -O2 -isystem /home/harrison/anaconda3/envs/ML_env/include    -DBOOST_DISABLE_ASSERTS   -DTBB_INTERFACE_NEW  -DTBB_INTERFACE_NEW    -Wl,-O2 -Wl,--sort-common -Wl,--as-needed -Wl,-z,relro -Wl,-z,now -Wl,--disable-new-dtags -Wl,--gc-sections -Wl,-rpath,/home/harrison/anaconda3/envs/ML_env/lib -Wl,-rpath-link,/home/harrison/anaconda3/envs/ML_env/lib -L/home/harrison/anaconda3/envs/ML_env/lib        -Wl,-L,\"/home/harrison/anaconda3/envs/ML_env/lib/\" -Wl,-rpath,\"/home/harrison/anaconda3/envs/ML_env/lib/\" -Wl,--disable-new-dtags -ltbb    /home/harrison/Desktop/gitHubRepos/ML_port/fMRI/RegReg.o src/cmdstan/main_threads.o        -Wl,-L,\"/home/harrison/anaconda3/envs/ML_env/lib/\" -Wl,-rpath,\"/home/harrison/anaconda3/envs/ML_env/lib/\" -Wl,--disable-new-dtags -ltbb stan/lib/stan_math/lib/sundials_6.1.1/lib/libsundials_nvecserial.a stan/lib/stan_math/lib/sundials_6.1.1/lib/libsundials_cvodes.a stan/lib/stan_math/lib/sundials_6.1.1/lib/libsundials_idas.a stan/lib/stan_math/lib/sundials_6.1.1/lib/libsundials_kinsol.a   -o /home/harrison/Desktop/gitHubRepos/ML_port/fMRI/RegReg\n",
      "rm -f /home/harrison/Desktop/gitHubRepos/ML_port/fMRI/RegReg.o\n",
      "\n"
     ]
    }
   ],
   "source": [
    "# Compile stan model into C++.\n",
    "modelR = CmdStanModel(stan_file = 'RegReg.stan', cpp_options={'STAN_THREADS':'true'})"
   ]
  },
  {
   "cell_type": "code",
   "execution_count": 38,
   "id": "3c71d739",
   "metadata": {},
   "outputs": [
    {
     "name": "stderr",
     "output_type": "stream",
     "text": [
      "15:18:40 - cmdstanpy - INFO - Chain [1] start processing\n",
      "15:20:32 - cmdstanpy - INFO - Chain [1] done processing\n",
      "15:20:32 - cmdstanpy - WARNING - The algorithm may not have converged.\n",
      "Proceeding because require_converged is set to False\n"
     ]
    }
   ],
   "source": [
    "# Use varaitional infernce to calculate init values to speed up HMC sampling below. \n",
    "vbfitR = modelR.variational(data ='RegRegABIDE.json', require_converged = False, seed = 1, grad_samples = 10)\n",
    "vbR_vars = vbfitR.stan_variables()"
   ]
  },
  {
   "cell_type": "code",
   "execution_count": 39,
   "id": "ecb63ba2",
   "metadata": {},
   "outputs": [
    {
     "name": "stderr",
     "output_type": "stream",
     "text": [
      "15:20:32 - cmdstanpy - INFO - CmdStan start processing\n"
     ]
    },
    {
     "data": {
      "application/vnd.jupyter.widget-view+json": {
       "model_id": "3950713893594a09a435e17d4e507640",
       "version_major": 2,
       "version_minor": 0
      },
      "text/plain": [
       "chain 1 |          | 00:00 Status"
      ]
     },
     "metadata": {},
     "output_type": "display_data"
    },
    {
     "data": {
      "application/vnd.jupyter.widget-view+json": {
       "model_id": "a485b95be89d46edb2d63c0b0464d4a0",
       "version_major": 2,
       "version_minor": 0
      },
      "text/plain": [
       "chain 2 |          | 00:00 Status"
      ]
     },
     "metadata": {},
     "output_type": "display_data"
    },
    {
     "data": {
      "application/vnd.jupyter.widget-view+json": {
       "model_id": "8c5e126dbfa14972a1f4862acb6991c4",
       "version_major": 2,
       "version_minor": 0
      },
      "text/plain": [
       "chain 3 |          | 00:00 Status"
      ]
     },
     "metadata": {},
     "output_type": "display_data"
    },
    {
     "data": {
      "application/vnd.jupyter.widget-view+json": {
       "model_id": "72d87e4b1e254ee0ab7262d2e6cb2da2",
       "version_major": 2,
       "version_minor": 0
      },
      "text/plain": [
       "chain 4 |          | 00:00 Status"
      ]
     },
     "metadata": {},
     "output_type": "display_data"
    },
    {
     "name": "stdout",
     "output_type": "stream",
     "text": [
      "                                                                                                                                                                                                                                                                                                                                "
     ]
    },
    {
     "name": "stderr",
     "output_type": "stream",
     "text": [
      "15:23:54 - cmdstanpy - INFO - CmdStan done processing.\n",
      "15:23:54 - cmdstanpy - WARNING - Non-fatal error during sampling:\n",
      "Exception: normal_lpdf: Scale parameter is 0, but must be positive! (in '/home/harrison/Desktop/gitHubRepos/ML_port/fMRI/RegReg.stan', line 44, column 1 to column 30)\n",
      "\tException: RegReg_model_namespace::log_prob: tau2 is -nan, but must be greater than or equal to 0.000000 (in '/home/harrison/Desktop/gitHubRepos/ML_port/fMRI/RegReg.stan', line 35, column 1 to column 22)\n",
      "\tException: normal_lpdf: Scale parameter is 0, but must be positive! (in '/home/harrison/Desktop/gitHubRepos/ML_port/fMRI/RegReg.stan', line 44, column 1 to column 30)\n",
      "\tException: normal_lpdf: Scale parameter is 0, but must be positive! (in '/home/harrison/Desktop/gitHubRepos/ML_port/fMRI/RegReg.stan', line 44, column 1 to column 30)\n",
      "\tException: normal_lpdf: Scale parameter is 0, but must be positive! (in '/home/harrison/Desktop/gitHubRepos/ML_port/fMRI/RegReg.stan', line 44, column 1 to column 30)\n",
      "\tException: normal_lpdf: Scale parameter is 0, but must be positive! (in '/home/harrison/Desktop/gitHubRepos/ML_port/fMRI/RegReg.stan', line 44, column 1 to column 30)\n",
      "\tException: normal_lpdf: Scale parameter is 0, but must be positive! (in '/home/harrison/Desktop/gitHubRepos/ML_port/fMRI/RegReg.stan', line 44, column 1 to column 30)\n",
      "Consider re-running with show_console=True if the above output is unclear!\n"
     ]
    },
    {
     "name": "stdout",
     "output_type": "stream",
     "text": [
      "\n"
     ]
    }
   ],
   "source": [
    "# fit the Stan model to the data.\n",
    "fitR = modelR.sample(data ='RegRegABIDE.json', chains = 4, inits = vbR_vars, iter_sampling = 1000, iter_warmup = 500);"
   ]
  },
  {
   "cell_type": "code",
   "execution_count": 52,
   "id": "fe1de874",
   "metadata": {},
   "outputs": [],
   "source": [
    "summR = az.summary(fitR)\n",
    "summR.to_csv('RidgeSummary.csv')\n",
    "RidgeDrawsDf = fitR.draws_pd()\n",
    "RidgeDrawsDf.to_csv('RidgeSamples.csv')"
   ]
  },
  {
   "cell_type": "code",
   "execution_count": 40,
   "id": "6a42d343",
   "metadata": {},
   "outputs": [],
   "source": [
    "# Compute the point estimate of the prediction error\n",
    "mseR, drawsR = pmse(fitR, y_test)"
   ]
  },
  {
   "cell_type": "markdown",
   "id": "3d3a648e",
   "metadata": {},
   "source": [
    " ## Plot Predictions against test set"
   ]
  },
  {
   "cell_type": "code",
   "execution_count": 41,
   "id": "d8d700df",
   "metadata": {},
   "outputs": [
    {
     "name": "stderr",
     "output_type": "stream",
     "text": [
      "/home/harrison/anaconda3/envs/ML_env/lib/python3.10/site-packages/seaborn/_oldcore.py:1498: FutureWarning: is_categorical_dtype is deprecated and will be removed in a future version. Use isinstance(dtype, CategoricalDtype) instead\n",
      "  if pd.api.types.is_categorical_dtype(vector):\n",
      "/home/harrison/anaconda3/envs/ML_env/lib/python3.10/site-packages/seaborn/_oldcore.py:1498: FutureWarning: is_categorical_dtype is deprecated and will be removed in a future version. Use isinstance(dtype, CategoricalDtype) instead\n",
      "  if pd.api.types.is_categorical_dtype(vector):\n",
      "/home/harrison/anaconda3/envs/ML_env/lib/python3.10/site-packages/seaborn/_oldcore.py:1498: FutureWarning: is_categorical_dtype is deprecated and will be removed in a future version. Use isinstance(dtype, CategoricalDtype) instead\n",
      "  if pd.api.types.is_categorical_dtype(vector):\n",
      "/home/harrison/anaconda3/envs/ML_env/lib/python3.10/site-packages/seaborn/_oldcore.py:1498: FutureWarning: is_categorical_dtype is deprecated and will be removed in a future version. Use isinstance(dtype, CategoricalDtype) instead\n",
      "  if pd.api.types.is_categorical_dtype(vector):\n",
      "/home/harrison/anaconda3/envs/ML_env/lib/python3.10/site-packages/seaborn/_oldcore.py:1498: FutureWarning: is_categorical_dtype is deprecated and will be removed in a future version. Use isinstance(dtype, CategoricalDtype) instead\n",
      "  if pd.api.types.is_categorical_dtype(vector):\n",
      "/home/harrison/anaconda3/envs/ML_env/lib/python3.10/site-packages/seaborn/_oldcore.py:1119: FutureWarning: use_inf_as_na option is deprecated and will be removed in a future version. Convert inf values to NaN before operating instead.\n",
      "  with pd.option_context('mode.use_inf_as_na', True):\n",
      "/home/harrison/anaconda3/envs/ML_env/lib/python3.10/site-packages/seaborn/_oldcore.py:1498: FutureWarning: is_categorical_dtype is deprecated and will be removed in a future version. Use isinstance(dtype, CategoricalDtype) instead\n",
      "  if pd.api.types.is_categorical_dtype(vector):\n",
      "/home/harrison/anaconda3/envs/ML_env/lib/python3.10/site-packages/seaborn/_oldcore.py:1119: FutureWarning: use_inf_as_na option is deprecated and will be removed in a future version. Convert inf values to NaN before operating instead.\n",
      "  with pd.option_context('mode.use_inf_as_na', True):\n"
     ]
    },
    {
     "data": {
      "image/png": "[encoded data removed]",
      "text/plain": [
       "<Figure size 600x600 with 3 Axes>"
      ]
     },
     "metadata": {},
     "output_type": "display_data"
    }
   ],
   "source": [
    "sns.jointplot(x = y_test, y = drawsR );"
   ]
  },
  {
   "cell_type": "code",
   "execution_count": 47,
   "id": "8bc690ff-5e09-4708-a454-dff73224573e",
   "metadata": {},
   "outputs": [
    {
     "data": {
      "text/plain": [
       "[1.0000134564182834, 1.0012122345750354]"
      ]
     },
     "execution_count": 47,
     "metadata": {},
     "output_type": "execute_result"
    }
   ],
   "source": [
    "[mseL, mseR]"
   ]
  },
  {
   "cell_type": "markdown",
   "id": "d1f0bdf8",
   "metadata": {},
   "source": [
    "# References \n",
    "\n",
    "Bethlehem, R. A., Seidlitz, J., Romero-Garcia, R., Trakoshis, S., Dumas, G., & Lombardo, M. V. (2020). A normative modelling approach reveals age-atypical cortical thickness in a subgroup of males with autism spectrum disorder. Communications biology, 3(1), 486.\n",
    "\n",
    "Di Martino, A., O’connor, D., Chen, B., Alaerts, K., Anderson, J. S., Assaf, M., ... & Milham, M. P. (2017). Enhancing studies of the connectome in autism using the autism brain imaging data exchange II. Scientific data, 4(1), 1-15.\n",
    "\n",
    "Glasser, M. F., Coalson, T. S., Robinson, E. C., Hacker, C. D., Harwell, J., Yacoub, E., ... & Van Essen, D. C. (2016). A multi-modal parcellation of human cerebral cortex. Nature, 536(7615), 171-178."
   ]
  }
 ],
 "metadata": {
  "kernelspec": {
   "display_name": "Python 3 (ipykernel)",
   "language": "python",
   "name": "python3"
  },
  "language_info": {
   "codemirror_mode": {
    "name": "ipython",
    "version": 3
   },
   "file_extension": ".py",
   "mimetype": "text/x-python",
   "name": "python",
   "nbconvert_exporter": "python",
   "pygments_lexer": "ipython3",
   "version": "3.10.12"
  }
 },
 "nbformat": 4,
 "nbformat_minor": 5
}
